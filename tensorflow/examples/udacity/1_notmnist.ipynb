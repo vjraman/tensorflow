{
 "cells": [
  {
   "cell_type": "markdown",
   "metadata": {
    "colab_type": "text",
    "id": "5hIbr52I7Z7U",
    "nbpresent": {
     "id": "c4724dca-596b-4c38-8b03-05a59bd832a7"
    }
   },
   "source": [
    "Deep Learning\n",
    "=============\n",
    "\n",
    "Assignment 1\n",
    "------------\n",
    "\n",
    "The objective of this assignment is to learn about simple data curation practices, and familiarize you with some of the data we'll be reusing later.\n",
    "\n",
    "This notebook uses the [notMNIST](http://yaroslavvb.blogspot.com/2011/09/notmnist-dataset.html) dataset to be used with python experiments. This dataset is designed to look like the classic [MNIST](http://yann.lecun.com/exdb/mnist/) dataset, while looking a little more like real data: it's a harder task, and the data is a lot less 'clean' than MNIST."
   ]
  },
  {
   "cell_type": "code",
   "execution_count": 35,
   "metadata": {
    "collapsed": false,
    "nbpresent": {
     "id": "99622d62-0120-4393-b22f-5a5890fa9493"
    }
   },
   "outputs": [
    {
     "name": "stdout",
     "output_type": "stream",
     "text": [
      "6\n",
      "length of a is 3\n",
      "[1, 1, 1]\n",
      "[(1, 4), (2, 5), (3, 6)]\n",
      "32\n"
     ]
    }
   ],
   "source": [
    "#PYTON ESSENTIALS FOR ML courses#\n",
    "a=[1,2,3]\n",
    "print(sum(a)) # print sum of elements in a list\n",
    "print('length of a is %d'%len(a))\n",
    "\n",
    "anarray =[i for i in range(0,4)]  # create an list using [] and range\n",
    "print(anarray)\n",
    "\n",
    "b=[0,1,2]\n",
    "d= [a[i]-b[i] for i in range(0,len(a))] # create an list using for i in <list> \n",
    "print(d)\n",
    "\n",
    "print(list(zip((1,2,3),(4,5,6)))) # use zip to pair equivalent items in two lists\n",
    "at=(1,2,3)\n",
    "bt=(4,5,6)\n",
    "print(sum([x*y for x,y in zip(at,bt)]))\n"
   ]
  },
  {
   "cell_type": "code",
   "execution_count": null,
   "metadata": {
    "collapsed": false,
    "nbpresent": {
     "id": "cc16d28f-291b-434b-9762-aa9a76b51e87"
    }
   },
   "outputs": [],
   "source": [
    "a=[[1,2],[3,4]]\n",
    "b=[[1,2],[3,4]]\n",
    "x=(a==b)\n",
    "print(a)\n",
    "print(x)"
   ]
  },
  {
   "cell_type": "code",
   "execution_count": null,
   "metadata": {
    "collapsed": false,
    "nbpresent": {
     "id": "a9dcb357-cb92-4902-8a0b-44900105323c"
    }
   },
   "outputs": [],
   "source": [
    "dict = {}\n",
    "dict['a']=5\n",
    "dict['a']=8\n",
    "print(dict)"
   ]
  },
  {
   "cell_type": "code",
   "execution_count": null,
   "metadata": {
    "collapsed": true
   },
   "outputs": [],
   "source": [
    "#working with numpy.ndarray\n",
    "im=[[1.0, 2.0], [3.0,4.0]]\n",
    "dt = np.ndarray(shape=(4,2,2),dtype=np.float32)\n",
    "dt[1,:,:]=im\n",
    "dt[0]=dt[0]*2+2\n",
    "print(dt)\n",
    "print(\"\\n\")\n",
    "print(dt[1][:,0])\n",
    "print(\"\\n\")"
   ]
  },
  {
   "cell_type": "code",
   "execution_count": 3,
   "metadata": {
    "cellView": "both",
    "colab": {
     "autoexec": {
      "startup": false,
      "wait_interval": 0
     }
    },
    "colab_type": "code",
    "collapsed": true,
    "id": "apJbCsBHl-2A",
    "nbpresent": {
     "id": "48c0235e-0889-4269-b758-5f4a5557f354"
    }
   },
   "outputs": [],
   "source": [
    "# These are all the modules we'll be using later. Make sure you can import them\n",
    "# before proceeding further.\n",
    "from __future__ import print_function\n",
    "import matplotlib.pyplot as plt\n",
    "import numpy as np\n",
    "import os\n",
    "import sys\n",
    "import tarfile\n",
    "from IPython.display import display, Image\n",
    "from scipy import ndimage\n",
    "from sklearn.linear_model import LogisticRegression\n",
    "from six.moves.urllib.request import urlretrieve\n",
    "from six.moves import cPickle as pickle\n",
    "\n",
    "# Config the matplotlib backend as plotting inline in IPython\n",
    "%matplotlib inline"
   ]
  },
  {
   "cell_type": "markdown",
   "metadata": {
    "colab_type": "text",
    "id": "jNWGtZaXn-5j",
    "nbpresent": {
     "id": "5d80cb8b-f559-42fc-8158-bf308a73735d"
    }
   },
   "source": [
    "First, we'll download the dataset to our local machine. The data consists of characters rendered in a variety of fonts on a 28x28 image. The labels are limited to 'A' through 'J' (10 classes). The training set has about 500k and the testset 19000 labelled examples. Given these sizes, it should be possible to train models quickly on any machine."
   ]
  },
  {
   "cell_type": "code",
   "execution_count": 4,
   "metadata": {
    "cellView": "both",
    "colab": {
     "autoexec": {
      "startup": false,
      "wait_interval": 0
     },
     "output_extras": [
      {
       "item_id": 1
      }
     ]
    },
    "colab_type": "code",
    "collapsed": false,
    "executionInfo": {
     "elapsed": 186058,
     "status": "ok",
     "timestamp": 1444485672507,
     "user": {
      "color": "#1FA15D",
      "displayName": "Vincent Vanhoucke",
      "isAnonymous": false,
      "isMe": true,
      "permissionId": "05076109866853157986",
      "photoUrl": "//lh6.googleusercontent.com/-cCJa7dTDcgQ/AAAAAAAAAAI/AAAAAAAACgw/r2EZ_8oYer4/s50-c-k-no/photo.jpg",
      "sessionId": "2a0a5e044bb03b66",
      "userId": "102167687554210253930"
     },
     "user_tz": 420
    },
    "id": "EYRJ4ICW6-da",
    "nbpresent": {
     "id": "4468fe74-47b4-4b3c-925a-5f461140049a"
    },
    "outputId": "0d0f85df-155f-4a89-8e7e-ee32df36ec8d"
   },
   "outputs": [
    {
     "name": "stdout",
     "output_type": "stream",
     "text": [
      "Found and verified notMNIST_large.tar.gz\n",
      "Found and verified notMNIST_small.tar.gz\n"
     ]
    }
   ],
   "source": [
    "url = 'http://commondatastorage.googleapis.com/books1000/'\n",
    "last_percent_reported = None\n",
    "\n",
    "def download_progress_hook(count, blockSize, totalSize):\n",
    "  \"\"\"A hook to report the progress of a download. This is mostly intended for users with\n",
    "  slow internet connections. Reports every 1% change in download progress.\n",
    "  \"\"\"\n",
    "  global last_percent_reported\n",
    "  percent = int(count * blockSize * 100 / totalSize)\n",
    "\n",
    "  if last_percent_reported != percent:\n",
    "    if percent % 5 == 0:\n",
    "      sys.stdout.write(\"%s%%\" % percent)\n",
    "      sys.stdout.flush()\n",
    "    else:\n",
    "      sys.stdout.write(\".\")\n",
    "      sys.stdout.flush()\n",
    "      \n",
    "    last_percent_reported = percent\n",
    "        \n",
    "def maybe_download(filename, expected_bytes, force=False):\n",
    "  \"\"\"Download a file if not present, and make sure it's the right size.\"\"\"\n",
    "  if force or not os.path.exists(filename):\n",
    "    print('Attempting to download:', filename) \n",
    "    filename, _ = urlretrieve(url + filename, filename, reporthook=download_progress_hook)\n",
    "    print('\\nDownload Complete!')\n",
    "  statinfo = os.stat(filename)\n",
    "  if statinfo.st_size == expected_bytes:\n",
    "    print('Found and verified', filename)\n",
    "  else:\n",
    "    raise Exception(\n",
    "      'Failed to verify ' + filename + '. Can you get to it with a browser?')\n",
    "  return filename\n",
    "\n",
    "train_filename = maybe_download('notMNIST_large.tar.gz', 247336696)\n",
    "test_filename = maybe_download('notMNIST_small.tar.gz', 8458043)"
   ]
  },
  {
   "cell_type": "markdown",
   "metadata": {
    "colab_type": "text",
    "id": "cC3p0oEyF8QT",
    "nbpresent": {
     "id": "e701baf6-99dc-4e12-823a-f56b3d013d18"
    }
   },
   "source": [
    "Extract the dataset from the compressed .tar.gz file.\n",
    "This should give you a set of directories, labelled A through J."
   ]
  },
  {
   "cell_type": "code",
   "execution_count": 5,
   "metadata": {
    "cellView": "both",
    "colab": {
     "autoexec": {
      "startup": false,
      "wait_interval": 0
     },
     "output_extras": [
      {
       "item_id": 1
      }
     ]
    },
    "colab_type": "code",
    "collapsed": false,
    "executionInfo": {
     "elapsed": 186055,
     "status": "ok",
     "timestamp": 1444485672525,
     "user": {
      "color": "#1FA15D",
      "displayName": "Vincent Vanhoucke",
      "isAnonymous": false,
      "isMe": true,
      "permissionId": "05076109866853157986",
      "photoUrl": "//lh6.googleusercontent.com/-cCJa7dTDcgQ/AAAAAAAAAAI/AAAAAAAACgw/r2EZ_8oYer4/s50-c-k-no/photo.jpg",
      "sessionId": "2a0a5e044bb03b66",
      "userId": "102167687554210253930"
     },
     "user_tz": 420
    },
    "id": "H8CBE-WZ8nmj",
    "nbpresent": {
     "id": "da1fd2a4-70d1-4939-aeae-111737963047"
    },
    "outputId": "ef6c790c-2513-4b09-962e-27c79390c762"
   },
   "outputs": [
    {
     "name": "stdout",
     "output_type": "stream",
     "text": [
      "notMNIST_large already present - Skipping extraction of notMNIST_large.tar.gz.\n",
      "['notMNIST_large\\\\A', 'notMNIST_large\\\\B', 'notMNIST_large\\\\C', 'notMNIST_large\\\\D', 'notMNIST_large\\\\E', 'notMNIST_large\\\\F', 'notMNIST_large\\\\G', 'notMNIST_large\\\\H', 'notMNIST_large\\\\I', 'notMNIST_large\\\\J']\n",
      "notMNIST_small already present - Skipping extraction of notMNIST_small.tar.gz.\n",
      "['notMNIST_small\\\\A', 'notMNIST_small\\\\B', 'notMNIST_small\\\\C', 'notMNIST_small\\\\D', 'notMNIST_small\\\\E', 'notMNIST_small\\\\F', 'notMNIST_small\\\\G', 'notMNIST_small\\\\H', 'notMNIST_small\\\\I', 'notMNIST_small\\\\J']\n"
     ]
    }
   ],
   "source": [
    "num_classes = 10\n",
    "np.random.seed(133)\n",
    "\n",
    "def maybe_extract(filename, force=False):\n",
    "  root = os.path.splitext(os.path.splitext(filename)[0])[0]  # remove .tar.gz\n",
    "  if os.path.isdir(root) and not force:\n",
    "    # You may override by setting force=True.\n",
    "    print('%s already present - Skipping extraction of %s.' % (root, filename))\n",
    "  else:\n",
    "    print('Extracting data for %s. This may take a while. Please wait.' % root)\n",
    "    tar = tarfile.open(filename)\n",
    "    sys.stdout.flush()\n",
    "    tar.extractall()\n",
    "    tar.close()\n",
    "  data_folders = [\n",
    "    os.path.join(root, d) for d in sorted(os.listdir(root))\n",
    "    if os.path.isdir(os.path.join(root, d))]\n",
    "  if len(data_folders) != num_classes:\n",
    "    raise Exception(\n",
    "      'Expected %d folders, one per class. Found %d instead.' % (\n",
    "        num_classes, len(data_folders)))\n",
    "  print(data_folders)\n",
    "  return data_folders\n",
    "  \n",
    "train_folders = maybe_extract(train_filename)\n",
    "test_folders = maybe_extract(test_filename)"
   ]
  },
  {
   "cell_type": "markdown",
   "metadata": {
    "colab_type": "text",
    "id": "4riXK3IoHgx6",
    "nbpresent": {
     "id": "ec8e3418-3199-48eb-a9d5-3ac1683d2349"
    }
   },
   "source": [
    "---\n",
    "Problem 1\n",
    "---------\n",
    "\n",
    "Let's take a peek at some of the data to make sure it looks sensible. Each exemplar should be an image of a character A through J rendered in a different font. Display a sample of the images that we just downloaded. Hint: you can use the package IPython.display.\n",
    "\n",
    "---"
   ]
  },
  {
   "cell_type": "code",
   "execution_count": 6,
   "metadata": {
    "collapsed": false,
    "nbpresent": {
     "id": "91a9c156-79da-4f88-8bde-6e2173cfc129"
    }
   },
   "outputs": [
    {
     "name": "stdout",
     "output_type": "stream",
     "text": [
      "notMNIST_large/G/Q2FudG9yaWEgTVQgU2VtaUJvbGQgSXRhbGljLnR0Zg==.png\n"
     ]
    },
    {
     "data": {
      "image/png": "[encoded data removed]",
      "text/plain": [
       "<IPython.core.display.Image object>"
      ]
     },
     "metadata": {},
     "output_type": "display_data"
    },
    {
     "name": "stdout",
     "output_type": "stream",
     "text": [
      "notMNIST_large/G/S2VpcmEgV2lkZSBOb3JtYWwudHRm.png\n"
     ]
    },
    {
     "data": {
      "image/png": "[encoded data removed]",
      "text/plain": [
       "<IPython.core.display.Image object>"
      ]
     },
     "metadata": {},
     "output_type": "display_data"
    },
    {
     "name": "stdout",
     "output_type": "stream",
     "text": [
      "notMNIST_large/A/U0YgV2lsbGFtZXR0ZSBCb2xkIEl0YWxpYy50dGY=.png\n"
     ]
    },
    {
     "data": {
      "image/png": "[encoded data removed]",
      "text/plain": [
       "<IPython.core.display.Image object>"
      ]
     },
     "metadata": {},
     "output_type": "display_data"
    },
    {
     "name": "stdout",
     "output_type": "stream",
     "text": [
      "notMNIST_large/C/S29taWthaHVuYS50dGY=.png\n"
     ]
    },
    {
     "data": {
      "image/png": "[encoded data removed]",
      "text/plain": [
       "<IPython.core.display.Image object>"
      ]
     },
     "metadata": {},
     "output_type": "display_data"
    },
    {
     "name": "stdout",
     "output_type": "stream",
     "text": [
      "notMNIST_large/H/U3Vuc2V0LVJlZ3VsYXIub3Rm.png\n"
     ]
    },
    {
     "data": {
      "image/png": "[encoded data removed]",
      "text/plain": [
       "<IPython.core.display.Image object>"
      ]
     },
     "metadata": {},
     "output_type": "display_data"
    }
   ],
   "source": [
    "import random\n",
    "from IPython.display import Image, display\n",
    "\n",
    "def display_image(foldername, filename):\n",
    "    print(foldername+ \"/\"+ filename)\n",
    "    display(Image(filename=foldername+ \"/\"+ filename))\n",
    "\n",
    "def randfilefromfolder(folder):\n",
    "  image_files = os.listdir(folder)\n",
    "  name = random.choice(image_files)\n",
    "  return name\n",
    "\n",
    "folderbase='notMNIST_large/'\n",
    "numImages = 5\n",
    "for i in range(0,numImages):\n",
    "  foldername=folderbase + random.choice(['A','B','C','D','E','F','G','H','I','J'])\n",
    "  filename=randfilefromfolder(foldername)\n",
    "  display_image(foldername,filename)\n"
   ]
  },
  {
   "cell_type": "markdown",
   "metadata": {
    "colab_type": "text",
    "id": "PBdkjESPK8tw",
    "nbpresent": {
     "id": "1b7a6937-6ae0-43f7-b428-a19efee51887"
    }
   },
   "source": [
    "Now let's load the data in a more manageable format. Since, depending on your computer setup you might not be able to fit it all in memory, we'll load each class into a separate dataset, store them on disk and curate them independently. Later we'll merge them into a single dataset of manageable size.\n",
    "\n",
    "We'll convert the entire dataset into a 3D array (image index, x, y) of floating point values, normalized to have approximately zero mean and standard deviation ~0.5 to make training easier down the road. \n",
    "\n",
    "A few images might not be readable, we'll just skip them."
   ]
  },
  {
   "cell_type": "code",
   "execution_count": 8,
   "metadata": {
    "cellView": "both",
    "colab": {
     "autoexec": {
      "startup": false,
      "wait_interval": 0
     },
     "output_extras": [
      {
       "item_id": 30
      }
     ]
    },
    "colab_type": "code",
    "collapsed": false,
    "executionInfo": {
     "elapsed": 399874,
     "status": "ok",
     "timestamp": 1444485886378,
     "user": {
      "color": "#1FA15D",
      "displayName": "Vincent Vanhoucke",
      "isAnonymous": false,
      "isMe": true,
      "permissionId": "05076109866853157986",
      "photoUrl": "//lh6.googleusercontent.com/-cCJa7dTDcgQ/AAAAAAAAAAI/AAAAAAAACgw/r2EZ_8oYer4/s50-c-k-no/photo.jpg",
      "sessionId": "2a0a5e044bb03b66",
      "userId": "102167687554210253930"
     },
     "user_tz": 420
    },
    "id": "h7q0XhG3MJdf",
    "nbpresent": {
     "id": "1a4b78ba-17ad-454b-ae31-6b958b4e7f9c"
    },
    "outputId": "92c391bb-86ff-431d-9ada-315568a19e59"
   },
   "outputs": [
    {
     "name": "stdout",
     "output_type": "stream",
     "text": [
      "notMNIST_large\\A.pickle already present - Skipping pickling.\n",
      "notMNIST_large\\B.pickle already present - Skipping pickling.\n",
      "notMNIST_large\\C.pickle already present - Skipping pickling.\n",
      "notMNIST_large\\D.pickle already present - Skipping pickling.\n",
      "notMNIST_large\\E.pickle already present - Skipping pickling.\n",
      "notMNIST_large\\F.pickle already present - Skipping pickling.\n",
      "notMNIST_large\\G.pickle already present - Skipping pickling.\n",
      "notMNIST_large\\H.pickle already present - Skipping pickling.\n",
      "notMNIST_large\\I.pickle already present - Skipping pickling.\n",
      "notMNIST_large\\J.pickle already present - Skipping pickling.\n",
      "notMNIST_small\\A.pickle already present - Skipping pickling.\n",
      "notMNIST_small\\B.pickle already present - Skipping pickling.\n",
      "notMNIST_small\\C.pickle already present - Skipping pickling.\n",
      "notMNIST_small\\D.pickle already present - Skipping pickling.\n",
      "notMNIST_small\\E.pickle already present - Skipping pickling.\n",
      "notMNIST_small\\F.pickle already present - Skipping pickling.\n",
      "notMNIST_small\\G.pickle already present - Skipping pickling.\n",
      "notMNIST_small\\H.pickle already present - Skipping pickling.\n",
      "notMNIST_small\\I.pickle already present - Skipping pickling.\n",
      "notMNIST_small\\J.pickle already present - Skipping pickling.\n"
     ]
    }
   ],
   "source": [
    "image_size = 28  # Pixel width and height.\n",
    "pixel_depth = 255.0  # Number of levels per pixel.\n",
    "\n",
    "def load_letter(folder, min_num_images):\n",
    "  \"\"\"Load the data for a single letter label.\"\"\"\n",
    "  image_files = os.listdir(folder)\n",
    "  dataset = np.ndarray(shape=(len(image_files), image_size, image_size),\n",
    "                         dtype=np.float32)\n",
    "  print(folder)\n",
    "  num_images = 0\n",
    "  for image in image_files:\n",
    "    image_file = os.path.join(folder, image)\n",
    "    try:\n",
    "      image_data = (ndimage.imread(image_file).astype(float) - \n",
    "                    pixel_depth / 2) / pixel_depth\n",
    "      if image_data.shape != (image_size, image_size):\n",
    "        raise Exception('Unexpected image shape: %s' % str(image_data.shape))\n",
    "      dataset[num_images, :, :] = image_data\n",
    "      num_images = num_images + 1 # running index of image sequence \n",
    "    except IOError as e:\n",
    "      print('Could not read:', image_file, ':', e, '- it\\'s ok, skipping.')\n",
    "    \n",
    "  dataset = dataset[0:num_images, :, :] # what does this one do??\n",
    "  if num_images < min_num_images:\n",
    "    raise Exception('Many fewer images than expected: %d < %d' %\n",
    "                    (num_images, min_num_images))\n",
    "    \n",
    "  print('Full dataset tensor:', dataset.shape)\n",
    "  print('Mean:', np.mean(dataset))\n",
    "  print('Standard deviation:', np.std(dataset))\n",
    "  return dataset\n",
    "        \n",
    "def maybe_pickle(data_folders, min_num_images_per_class, force=False):\n",
    "  dataset_names = []\n",
    "  for folder in data_folders:\n",
    "    set_filename = folder + '.pickle'\n",
    "    dataset_names.append(set_filename)\n",
    "    if os.path.exists(set_filename) and not force:\n",
    "      # You may override by setting force=True.\n",
    "      print('%s already present - Skipping pickling.' % set_filename)\n",
    "    else:\n",
    "      print('Pickling %s.' % set_filename)\n",
    "      dataset = load_letter(folder, min_num_images_per_class)\n",
    "      try:\n",
    "        with open(set_filename, 'wb') as f:\n",
    "          pickle.dump(dataset, f, pickle.HIGHEST_PROTOCOL)\n",
    "      except Exception as e:\n",
    "        print('Unable to save data to', set_filename, ':', e)\n",
    "  \n",
    "  return dataset_names\n",
    "\n",
    "train_datasets = maybe_pickle(train_folders, 45000)\n",
    "test_datasets = maybe_pickle(test_folders, 1800)"
   ]
  },
  {
   "cell_type": "markdown",
   "metadata": {
    "colab_type": "text",
    "id": "vUdbskYE2d87",
    "nbpresent": {
     "id": "3404010f-5c1e-4c0c-9877-d584f44c8e6f"
    }
   },
   "source": [
    "---\n",
    "Problem 2\n",
    "---------\n",
    "\n",
    "Let's verify that the data still looks good. Displaying a sample of the labels and images from the ndarray. Hint: you can use matplotlib.pyplot.\n",
    "\n",
    "---"
   ]
  },
  {
   "cell_type": "code",
   "execution_count": 42,
   "metadata": {
    "collapsed": false,
    "nbpresent": {
     "id": "9b39e66f-0ef2-4b42-a51c-1bc7df2a4ead"
    }
   },
   "outputs": [
    {
     "name": "stdout",
     "output_type": "stream",
     "text": [
      "52909\n",
      "['a29ydW5pc2hpLnR0Zg==.png', 'a2F6b28udHRm.png', 'a2FkZW4udHRm.png', 'a2FpcmVlLnR0Zg==.png', 'a2Fua2FuYSBLLnR0Zg==.png', 'a2FuIEUudHRm.png', 'a2hhcm9uNGFfbWluaS50dGY=.png', 'a2l0Y2hlbiB0aWxlLnR0Zg==.png', 'a2ltaWRvcmkgbXVnY3VwLnR0Zg==.png', 'a2VhZ2FuLnR0Zg==.png']\n"
     ]
    },
    {
     "data": {
      "text/plain": [
       "<matplotlib.image.AxesImage at 0x21d0c2be5c0>"
      ]
     },
     "execution_count": 42,
     "metadata": {},
     "output_type": "execute_result"
    },
    {
     "data": {
      "image/png": "[encoded data removed]",
      "text/plain": [
       "<matplotlib.figure.Figure at 0x21d065f07f0>"
      ]
     },
     "metadata": {},
     "output_type": "display_data"
    }
   ],
   "source": [
    "import matplotlib.pyplot as plt\n",
    "import time\n",
    "aset=pickle.load(open( train_datasets[0], \"rb\" ))\n",
    "print(len(aset))\n",
    "print(os.listdir(\"notMNIST_large/A\")[0:10])\n",
    "\n",
    "image_num=5\n",
    "x=aset[image_num]*pixel_depth+pixel_depth/2\n",
    "plt.imshow(x,cmap=plt.cm.gray)\n",
    "\n",
    "\n"
   ]
  },
  {
   "cell_type": "markdown",
   "metadata": {
    "colab_type": "text",
    "id": "cYznx5jUwzoO",
    "nbpresent": {
     "id": "f0857fe9-e727-4484-ae97-e38a69172f84"
    }
   },
   "source": [
    "---\n",
    "Problem 3\n",
    "---------\n",
    "Another check: we expect the data to be balanced across classes. Verify that.\n",
    "\n",
    "---"
   ]
  },
  {
   "cell_type": "code",
   "execution_count": 43,
   "metadata": {
    "collapsed": false,
    "nbpresent": {
     "id": "cf13bfcb-f6c7-4428-8a69-d89ba5bdb841"
    }
   },
   "outputs": [
    {
     "data": {
      "text/plain": [
       "(28, 28)"
      ]
     },
     "execution_count": 43,
     "metadata": {},
     "output_type": "execute_result"
    }
   ],
   "source": [
    "aset=pickle.load(open( train_datasets[0], \"rb\")) \n",
    "aset[0].shape"
   ]
  },
  {
   "cell_type": "code",
   "execution_count": 36,
   "metadata": {
    "collapsed": false,
    "nbpresent": {
     "id": "094ffb18-0003-4666-b765-1087d0f42bab"
    }
   },
   "outputs": [
    {
     "name": "stdout",
     "output_type": "stream",
     "text": [
      "10\n",
      "class range for training set\n",
      "[52909, 52911, 52912, 52911, 52912, 52912, 52912, 52912, 52912, 52911]\n",
      "0.9333333333333333\n",
      "class range for test set\n",
      "[1872, 1873, 1873, 1873, 1873, 1872, 1872, 1872, 1872, 1872]\n"
     ]
    }
   ],
   "source": [
    "from statistics import variance\n",
    "print(len(train_datasets))\n",
    "classrange=[len(pickle.load(open( train_datasets[i], \"rb\" ))) for i in range(0,10)]\n",
    "print('class range for training set')\n",
    "print(classrange)  \n",
    "print(variance(classrange))    \n",
    "print('class range for test set')\n",
    "classrange=[len(pickle.load(open( test_datasets[i], \"rb\" ))) for i in range(0,10)]\n",
    "print(classrange)\n"
   ]
  },
  {
   "cell_type": "markdown",
   "metadata": {
    "nbpresent": {
     "id": "86557b79-a326-4169-b2b7-9dc12384d826"
    }
   },
   "source": [
    "<hr/>\n",
    "Notes\n",
    "--------\n",
    "\n",
    "All the classes are well represented in the training set\n",
    "\n"
   ]
  },
  {
   "cell_type": "markdown",
   "metadata": {
    "colab_type": "text",
    "id": "LA7M7K22ynCt",
    "nbpresent": {
     "id": "ad8415eb-dc0c-4b5d-af51-6fa4c9d565f4"
    }
   },
   "source": [
    "---\n",
    "Merge and prune the training data as needed. Depending on your computer setup, you might not be able to fit it all in memory, and you can tune `train_size` as needed. The labels will be stored into a separate array of integers 0 through 9.\n",
    "\n",
    "Also create a validation dataset for hyperparameter tuning."
   ]
  },
  {
   "cell_type": "code",
   "execution_count": 15,
   "metadata": {
    "cellView": "both",
    "colab": {
     "autoexec": {
      "startup": false,
      "wait_interval": 0
     },
     "output_extras": [
      {
       "item_id": 1
      }
     ]
    },
    "colab_type": "code",
    "collapsed": false,
    "executionInfo": {
     "elapsed": 411281,
     "status": "ok",
     "timestamp": 1444485897869,
     "user": {
      "color": "#1FA15D",
      "displayName": "Vincent Vanhoucke",
      "isAnonymous": false,
      "isMe": true,
      "permissionId": "05076109866853157986",
      "photoUrl": "//lh6.googleusercontent.com/-cCJa7dTDcgQ/AAAAAAAAAAI/AAAAAAAACgw/r2EZ_8oYer4/s50-c-k-no/photo.jpg",
      "sessionId": "2a0a5e044bb03b66",
      "userId": "102167687554210253930"
     },
     "user_tz": 420
    },
    "id": "s3mWgZLpyuzq",
    "nbpresent": {
     "id": "130d83c8-2cc5-4ab8-9b8b-871d590b86ac"
    },
    "outputId": "8af66da6-902d-4719-bedc-7c9fb7ae7948"
   },
   "outputs": [
    {
     "name": "stdout",
     "output_type": "stream",
     "text": [
      "Training: (200000, 28, 28) (200000,)\n",
      "Validation: (10000, 28, 28) (10000,)\n",
      "Testing: (10000, 28, 28) (10000,)\n"
     ]
    }
   ],
   "source": [
    "def make_arrays(nb_rows, img_size):\n",
    "  if nb_rows:\n",
    "    dataset = np.ndarray((nb_rows, img_size, img_size), dtype=np.float32)\n",
    "    labels = np.ndarray(nb_rows, dtype=np.int32)\n",
    "  else:\n",
    "    dataset, labels = None, None\n",
    "  return dataset, labels\n",
    "\n",
    "def merge_datasets(pickle_files, train_size, valid_size=0):\n",
    "  num_classes = len(pickle_files)\n",
    "  valid_dataset, valid_labels = make_arrays(valid_size, image_size)\n",
    "  train_dataset, train_labels = make_arrays(train_size, image_size)\n",
    "  vsize_per_class = valid_size // num_classes\n",
    "  tsize_per_class = train_size // num_classes\n",
    "    \n",
    "  start_v, start_t = 0, 0\n",
    "  end_v, end_t = vsize_per_class, tsize_per_class\n",
    "  end_l = vsize_per_class+tsize_per_class\n",
    "  for label, pickle_file in enumerate(pickle_files):       \n",
    "    try:\n",
    "      with open(pickle_file, 'rb') as f:\n",
    "        letter_set = pickle.load(f)\n",
    "        # let's shuffle the letters to have random validation and training set\n",
    "        np.random.shuffle(letter_set)\n",
    "        if valid_dataset is not None:\n",
    "          valid_letter = letter_set[:vsize_per_class, :, :] # taking the first vsize_per_class for validation set\n",
    "          valid_dataset[start_v:end_v, :, :] = valid_letter\n",
    "          valid_labels[start_v:end_v] = label\n",
    "          start_v += vsize_per_class\n",
    "          end_v += vsize_per_class\n",
    "                    \n",
    "        train_letter = letter_set[vsize_per_class:end_l, :, :] #only taking tsize_per_class images\n",
    "        train_dataset[start_t:end_t, :, :] = train_letter\n",
    "        train_labels[start_t:end_t] = label\n",
    "        start_t += tsize_per_class\n",
    "        end_t += tsize_per_class\n",
    "    except Exception as e:\n",
    "      print('Unable to process data from', pickle_file, ':', e)\n",
    "      raise\n",
    "    \n",
    "  return valid_dataset, valid_labels, train_dataset, train_labels\n",
    "            \n",
    "            \n",
    "train_size = 200000\n",
    "valid_size = 10000\n",
    "test_size = 10000\n",
    "\n",
    "valid_dataset, valid_labels, train_dataset, train_labels = merge_datasets(\n",
    "  train_datasets, train_size, valid_size)\n",
    "_, _, test_dataset, test_labels = merge_datasets(test_datasets, test_size)\n",
    "\n",
    "print('Training:', train_dataset.shape, train_labels.shape)\n",
    "print('Validation:', valid_dataset.shape, valid_labels.shape)\n",
    "print('Testing:', test_dataset.shape, test_labels.shape)"
   ]
  },
  {
   "cell_type": "markdown",
   "metadata": {
    "colab_type": "text",
    "id": "GPTCnjIcyuKN",
    "nbpresent": {
     "id": "da94268a-94d0-4784-9102-a3256b4e8a16"
    }
   },
   "source": [
    "Next, we'll randomize the data. It's important to have the labels well shuffled for the training and test distributions to match."
   ]
  },
  {
   "cell_type": "code",
   "execution_count": 16,
   "metadata": {
    "cellView": "both",
    "colab": {
     "autoexec": {
      "startup": false,
      "wait_interval": 0
     }
    },
    "colab_type": "code",
    "collapsed": false,
    "id": "6WZ2l2tN2zOL",
    "nbpresent": {
     "id": "d774d532-a8b2-473b-8690-b4291301e384"
    }
   },
   "outputs": [],
   "source": [
    "def randomize(dataset, labels):\n",
    "  permutation = np.random.permutation(labels.shape[0])\n",
    "  shuffled_dataset = dataset[permutation,:,:]\n",
    "  shuffled_labels = labels[permutation]\n",
    "  return shuffled_dataset, shuffled_labels\n",
    "train_dataset, train_labels = randomize(train_dataset, train_labels)\n",
    "test_dataset, test_labels = randomize(test_dataset, test_labels)\n",
    "valid_dataset, valid_labels = randomize(valid_dataset, valid_labels)"
   ]
  },
  {
   "cell_type": "markdown",
   "metadata": {
    "colab_type": "text",
    "id": "puDUTe6t6USl",
    "nbpresent": {
     "id": "9273d410-7b49-4eb5-8d54-d2bb90b9573e"
    }
   },
   "source": [
    "---\n",
    "Problem 4\n",
    "---------\n",
    "Convince yourself that the data is still good after shuffling!\n",
    "\n",
    "---"
   ]
  },
  {
   "cell_type": "code",
   "execution_count": 17,
   "metadata": {
    "collapsed": false,
    "nbpresent": {
     "id": "ce371015-067c-4cd9-90e9-067924e02f22"
    }
   },
   "outputs": [
    {
     "name": "stdout",
     "output_type": "stream",
     "text": [
      "[[-0.5        -0.5        -0.5        -0.49215686 -0.5        -0.37450981\n",
      "  -0.46078432 -0.5        -0.5        -0.48431373 -0.5        -0.39411765\n",
      "   0.25294119  0.48823529  0.34705883  0.01764706 -0.40196079 -0.5\n",
      "  -0.49215686 -0.49215686 -0.5        -0.5        -0.5        -0.5        -0.5\n",
      "  -0.5        -0.5        -0.5       ]\n",
      " [-0.5        -0.5        -0.48823529 -0.5        -0.14313726  0.10392157\n",
      "  -0.5        -0.49607843 -0.48431373 -0.5        -0.31568629  0.35490197\n",
      "   0.5         0.49215686  0.49607843  0.5         0.41764706  0.00196078\n",
      "  -0.44901961 -0.5        -0.48823529 -0.5        -0.5        -0.5        -0.5\n",
      "  -0.5        -0.5        -0.5       ]\n",
      " [-0.5        -0.49215686 -0.5        -0.31176472  0.49215686 -0.16666667\n",
      "  -0.5        -0.47254902 -0.5        -0.20588236  0.43333334  0.5\n",
      "   0.47647059  0.48431373  0.48431373  0.48823529  0.49215686  0.5\n",
      "   0.30784315 -0.36274511 -0.5        -0.49215686 -0.5        -0.5        -0.5\n",
      "  -0.5        -0.5        -0.5       ]\n",
      " [-0.49607843 -0.5        -0.46862745  0.28823531  0.5        -0.38627452\n",
      "  -0.5        -0.5        -0.0254902   0.5         0.5         0.5         0.5\n",
      "   0.5         0.5         0.49215686  0.48431373  0.48431373  0.5\n",
      "   0.40196079 -0.32352942 -0.5        -0.49215686 -0.5        -0.5        -0.5\n",
      "  -0.5        -0.5       ]\n",
      " [-0.48431373 -0.5        -0.02156863  0.5         0.38235295 -0.45294118\n",
      "  -0.46862745  0.13921569  0.44117647  0.13921569 -0.05294118 -0.13137256\n",
      "  -0.11568628  0.05294118  0.32745099  0.5         0.49607843  0.48823529\n",
      "   0.48039216  0.5         0.30000001 -0.47254902 -0.5        -0.49607843\n",
      "  -0.5        -0.5        -0.5        -0.5       ]\n",
      " [-0.5        -0.39803922  0.4137255   0.5         0.28039217 -0.37450981\n",
      "   0.01372549 -0.0882353  -0.46862745 -0.5        -0.49607843 -0.5        -0.5\n",
      "  -0.5        -0.48431373 -0.19411765  0.34705883  0.5         0.49215686\n",
      "   0.48431373  0.5        -0.12352941 -0.5        -0.48823529 -0.5        -0.5\n",
      "  -0.5        -0.5       ]\n",
      " [-0.5        -0.00980392  0.5         0.5         0.30000001 -0.23333333\n",
      "  -0.43333334 -0.5        -0.49607843 -0.48823529 -0.48431373 -0.48431373\n",
      "  -0.48431373 -0.48823529 -0.49215686 -0.5        -0.43725491  0.20196079\n",
      "   0.5         0.48039216  0.5         0.14705883 -0.5        -0.48823529\n",
      "  -0.5        -0.5        -0.5        -0.5       ]\n",
      " [-0.45294118  0.34313726  0.5         0.5         0.24117647 -0.5\n",
      "  -0.49607843 -0.48431373 -0.49607843 -0.5        -0.5        -0.5        -0.5\n",
      "  -0.5        -0.49607843 -0.48431373 -0.5        -0.44117647  0.35490197\n",
      "   0.5         0.5         0.22156863 -0.5        -0.49607843 -0.5        -0.5\n",
      "  -0.5        -0.5       ]\n",
      " [-0.22941177  0.5         0.48823529  0.5         0.2254902  -0.5\n",
      "  -0.49215686 -0.5        -0.5        -0.5        -0.5        -0.5        -0.5\n",
      "  -0.5        -0.5        -0.5        -0.48039216 -0.5        -0.06078431\n",
      "   0.5         0.5         0.1        -0.5        -0.48431373 -0.5        -0.5\n",
      "  -0.5        -0.5       ]\n",
      " [ 0.0372549   0.5         0.47647059  0.5         0.22941177 -0.5\n",
      "  -0.49607843 -0.5        -0.5        -0.5        -0.5        -0.5        -0.5\n",
      "  -0.5        -0.5        -0.49215686 -0.47647059 -0.5        -0.28431374\n",
      "   0.5         0.5        -0.2254902  -0.5        -0.48823529 -0.5        -0.5\n",
      "  -0.5        -0.5       ]\n",
      " [ 0.19019608  0.5         0.47647059  0.5         0.2372549  -0.5\n",
      "  -0.49607843 -0.49607843 -0.5        -0.5        -0.5        -0.5\n",
      "  -0.49607843 -0.48823529 -0.49215686 -0.5        -0.49215686 -0.5\n",
      "  -0.33529413  0.5         0.20196079 -0.5        -0.49215686 -0.5        -0.5\n",
      "  -0.5        -0.5        -0.5       ]\n",
      " [ 0.30784315  0.5         0.48431373  0.5         0.29215688 -0.49215686\n",
      "  -0.5        -0.49607843 -0.5        -0.5        -0.49607843 -0.48431373\n",
      "  -0.49607843 -0.5        -0.5        -0.37450981 -0.0254902   0.31568629\n",
      "   0.34313726  0.48823529 -0.22156863 -0.5        -0.48823529 -0.48823529\n",
      "  -0.5        -0.5        -0.5        -0.5       ]\n",
      " [ 0.39019608  0.5         0.48823529  0.5         0.35882354 -0.46078432\n",
      "  -0.5        -0.49607843 -0.49215686 -0.48431373 -0.49607843 -0.5\n",
      "  -0.48823529 -0.24117647  0.17058824  0.46078432  0.5         0.49607843\n",
      "   0.5         0.5         0.41764706  0.01764706 -0.43333334 -0.5\n",
      "  -0.48823529 -0.49607843 -0.5        -0.5       ]\n",
      " [ 0.44509804  0.5         0.49607843  0.5         0.43725491 -0.4254902\n",
      "  -0.5        -0.48823529 -0.49607843 -0.5        -0.46078432 -0.12745099\n",
      "   0.28431374  0.49607843  0.5         0.49215686  0.46862745  0.47647059\n",
      "   0.48039216  0.48823529  0.49607843  0.5         0.39803922 -0.14313726\n",
      "  -0.5        -0.49215686 -0.49607843 -0.5       ]\n",
      " [ 0.47647059  0.5         0.49607843  0.49607843  0.5        -0.22941177\n",
      "  -0.5        -0.49215686 -0.36274511  0.0372549   0.43333334  0.5\n",
      "   0.49607843  0.5         0.5         0.5         0.5         0.5         0.5\n",
      "   0.5         0.49607843  0.47254902  0.49215686  0.5         0.13921569\n",
      "  -0.46470588 -0.5        -0.49607843]\n",
      " [ 0.49607843  0.5         0.5         0.48431373  0.5         0.01764706\n",
      "  -0.43725491 -0.07254902  0.18235295  0.19803922  0.08039216 -0.01764706\n",
      "  -0.06862745 -0.08431373 -0.09607843 -0.11568628 -0.1        -0.04901961\n",
      "   0.06862745  0.24901961  0.44901961  0.5         0.48431373  0.47647059\n",
      "   0.5         0.25294119 -0.45294118 -0.5       ]\n",
      " [ 0.48039216  0.5         0.5         0.49215686  0.5         0.36666667\n",
      "  -0.33529413 -0.41764706 -0.49607843 -0.5        -0.5        -0.5        -0.5\n",
      "  -0.5        -0.5        -0.5        -0.5        -0.5        -0.5        -0.5\n",
      "  -0.39019608  0.00588235  0.45686275  0.5         0.47647059  0.5\n",
      "   0.13137256 -0.5       ]\n",
      " [ 0.43333334  0.5         0.49607843  0.5         0.48823529  0.5\n",
      "  -0.10784314 -0.5        -0.48431373 -0.48823529 -0.48823529 -0.48431373\n",
      "  -0.48431373 -0.48431373 -0.48431373 -0.48431373 -0.48431373 -0.48431373\n",
      "  -0.48823529 -0.49215686 -0.49215686 -0.5        -0.2647059   0.43333334\n",
      "   0.5         0.48823529  0.5        -0.23333333]\n",
      " [ 0.37450981  0.5         0.49607843  0.5         0.49215686  0.5\n",
      "   0.36274511 -0.42941177 -0.5        -0.49607843 -0.5        -0.5        -0.5\n",
      "  -0.5        -0.5        -0.5        -0.5        -0.5        -0.5        -0.5\n",
      "  -0.49215686 -0.47254902 -0.5        -0.08431373  0.5         0.47647059\n",
      "   0.5         0.06078431]\n",
      " [ 0.25294119  0.5         0.49215686  0.5         0.5         0.48431373\n",
      "   0.5         0.00196078 -0.5        -0.48431373 -0.5        -0.5        -0.5\n",
      "  -0.5        -0.5        -0.5        -0.5        -0.5        -0.5        -0.5\n",
      "  -0.5        -0.49215686 -0.5        -0.39411765  0.44509804  0.5         0.5\n",
      "   0.05686275]\n",
      " [ 0.12352941  0.5         0.48823529  0.5         0.5         0.49607843\n",
      "   0.5         0.43725491 -0.37058824 -0.5        -0.49215686 -0.5        -0.5\n",
      "  -0.5        -0.5        -0.5        -0.5        -0.5        -0.5        -0.5\n",
      "  -0.5        -0.49607843 -0.5        -0.44509804  0.35882354  0.5         0.5\n",
      "  -0.08431373]\n",
      " [-0.02941176  0.5         0.49215686  0.5         0.5         0.5\n",
      "   0.48823529  0.5         0.13137256 -0.5        -0.49215686 -0.5        -0.5\n",
      "  -0.5        -0.5        -0.5        -0.5        -0.5        -0.5        -0.5\n",
      "  -0.5        -0.49215686 -0.5        -0.38627452  0.45294118  0.5\n",
      "   0.44509804 -0.33137256]\n",
      " [-0.26078433  0.49607843  0.5         0.5         0.5         0.5         0.5\n",
      "   0.49607843  0.5        -0.2254902  -0.5        -0.48823529 -0.5        -0.5\n",
      "  -0.5        -0.5        -0.5        -0.5        -0.5        -0.5        -0.5\n",
      "  -0.47647059 -0.5        -0.1         0.5         0.5         0.08039216\n",
      "  -0.5       ]\n",
      " [-0.43725491  0.37450981  0.5         0.49607843  0.5         0.5         0.5\n",
      "   0.48431373  0.5         0.32745099 -0.45686275 -0.5        -0.49607843\n",
      "  -0.5        -0.5        -0.5        -0.5        -0.5        -0.5\n",
      "  -0.48823529 -0.48431373 -0.5        -0.34313726  0.39411765  0.5\n",
      "   0.25294119 -0.44509804 -0.5       ]\n",
      " [-0.5         0.12745099  0.5         0.48431373  0.5         0.49215686\n",
      "   0.48823529  0.49607843  0.5         0.32745099 -0.37450981 -0.5\n",
      "  -0.49215686 -0.5        -0.5        -0.49607843 -0.49215686 -0.48823529\n",
      "  -0.49607843 -0.49607843 -0.5        -0.2254902   0.42156863  0.5\n",
      "   0.15490197 -0.44117647 -0.5        -0.49607843]\n",
      " [-0.5        -0.22941177  0.5         0.49215686  0.48823529  0.49607843\n",
      "   0.5         0.38627452 -0.10392157 -0.48039216 -0.5        -0.5        -0.5\n",
      "  -0.5        -0.5        -0.5        -0.5        -0.5        -0.48039216\n",
      "  -0.24901961  0.22941177  0.5         0.2764706  -0.24509804 -0.5\n",
      "  -0.49215686 -0.49607843 -0.5       ]\n",
      " [-0.49607843 -0.5         0.10392157  0.5         0.5         0.41764706\n",
      "  -0.02941176 -0.44509804 -0.5        -0.49215686 -0.49607843 -0.5\n",
      "  -0.49607843 -0.49607843 -0.47254902 -0.39803922 -0.28039217 -0.10784314\n",
      "   0.10392157  0.18627451  0.00980392 -0.34705883 -0.5        -0.5\n",
      "  -0.49215686 -0.49607843 -0.5        -0.5       ]\n",
      " [-0.49607843 -0.5        -0.47254902  0.2254902   0.14705883 -0.40980393\n",
      "  -0.5        -0.49215686 -0.48823529 -0.49607843 -0.5        -0.48039216\n",
      "  -0.4254902  -0.4137255  -0.33137256 -0.28823531 -0.2764706  -0.28823531\n",
      "  -0.41764706 -0.5        -0.49607843 -0.5        -0.49215686 -0.48823529\n",
      "  -0.5        -0.5        -0.5        -0.5       ]]\n",
      "(28, 28)\n",
      "1\n"
     ]
    },
    {
     "data": {
      "text/plain": [
       "<matplotlib.image.AxesImage at 0x22b0c2332e8>"
      ]
     },
     "execution_count": 17,
     "metadata": {},
     "output_type": "execute_result"
    },
    {
     "data": {
      "image/png": "[encoded data removed]",
      "text/plain": [
       "<matplotlib.figure.Figure at 0x22b0c08d630>"
      ]
     },
     "metadata": {},
     "output_type": "display_data"
    }
   ],
   "source": [
    "from matplotlib import pyplot as py\n",
    "image_num=350\n",
    "image_data = train_dataset[image_num]\n",
    "print(image_data)\n",
    "label_data = train_labels[image_num]\n",
    "print(image_data.shape)\n",
    "print(label_data)\n",
    "py.imshow(image_data,cmap=plt.cm.gray)\n",
    "\n"
   ]
  },
  {
   "cell_type": "markdown",
   "metadata": {
    "colab_type": "text",
    "id": "tIQJaJuwg5Hw",
    "nbpresent": {
     "id": "2677eff1-4249-4ddc-9f65-336d0f325025"
    }
   },
   "source": [
    "Finally, let's save the data for later reuse:"
   ]
  },
  {
   "cell_type": "code",
   "execution_count": 18,
   "metadata": {
    "cellView": "both",
    "colab": {
     "autoexec": {
      "startup": false,
      "wait_interval": 0
     }
    },
    "colab_type": "code",
    "collapsed": true,
    "id": "QiR_rETzem6C",
    "nbpresent": {
     "id": "8dba9f49-9d42-4473-99c7-08b9e4426bc5"
    }
   },
   "outputs": [],
   "source": [
    "pickle_file = 'notMNIST.pickle'\n",
    "\n",
    "try:\n",
    "  f = open(pickle_file, 'wb')\n",
    "  save = {\n",
    "    'train_dataset': train_dataset,\n",
    "    'train_labels': train_labels,\n",
    "    'valid_dataset': valid_dataset,\n",
    "    'valid_labels': valid_labels,\n",
    "    'test_dataset': test_dataset,\n",
    "    'test_labels': test_labels,\n",
    "    }\n",
    "  pickle.dump(save, f, pickle.HIGHEST_PROTOCOL)\n",
    "  f.close()\n",
    "except Exception as e:\n",
    "  print('Unable to save data to', pickle_file, ':', e)\n",
    "  raise"
   ]
  },
  {
   "cell_type": "code",
   "execution_count": 19,
   "metadata": {
    "cellView": "both",
    "colab": {
     "autoexec": {
      "startup": false,
      "wait_interval": 0
     },
     "output_extras": [
      {
       "item_id": 1
      }
     ]
    },
    "colab_type": "code",
    "collapsed": false,
    "executionInfo": {
     "elapsed": 413065,
     "status": "ok",
     "timestamp": 1444485899688,
     "user": {
      "color": "#1FA15D",
      "displayName": "Vincent Vanhoucke",
      "isAnonymous": false,
      "isMe": true,
      "permissionId": "05076109866853157986",
      "photoUrl": "//lh6.googleusercontent.com/-cCJa7dTDcgQ/AAAAAAAAAAI/AAAAAAAACgw/r2EZ_8oYer4/s50-c-k-no/photo.jpg",
      "sessionId": "2a0a5e044bb03b66",
      "userId": "102167687554210253930"
     },
     "user_tz": 420
    },
    "id": "hQbLjrW_iT39",
    "nbpresent": {
     "id": "eee59e01-2d17-417c-a716-783daa3c5ea2"
    },
    "outputId": "b440efc6-5ee1-4cbc-d02d-93db44ebd956"
   },
   "outputs": [
    {
     "name": "stdout",
     "output_type": "stream",
     "text": [
      "Compressed pickle size: 690800512\n"
     ]
    }
   ],
   "source": [
    "statinfo = os.stat(pickle_file)\n",
    "print('Compressed pickle size:', statinfo.st_size)"
   ]
  },
  {
   "cell_type": "markdown",
   "metadata": {
    "colab_type": "text",
    "id": "gE_cRAQB33lk",
    "nbpresent": {
     "id": "4f27cb2c-f5a8-4cae-9603-52f525d81df0"
    }
   },
   "source": [
    "---\n",
    "Problem 5\n",
    "---------\n",
    "\n",
    "By construction, this dataset might contain a lot of overlapping samples, including training data that's also contained in the validation and test set! Overlap between training and test can skew the results if you expect to use your model in an environment where there is never an overlap, but are actually ok if you expect to see training samples recur when you use it.\n",
    "Measure how much overlap there is between training, validation and test samples.\n",
    "\n",
    "Optional questions:\n",
    "- What about near duplicates between datasets? (images that are almost identical)\n",
    "- Create a sanitized validation and test set, and compare your accuracy on those in subsequent assignments.\n",
    "---"
   ]
  },
  {
   "cell_type": "code",
   "execution_count": null,
   "metadata": {
    "collapsed": false,
    "nbpresent": {
     "id": "e5e54ef4-405e-414b-ab3d-91bfbf9fbfa6"
    }
   },
   "outputs": [],
   "source": [
    "# THIS IS NO GOOD, AS IT RESULTS IN 2 BILLION COMPARISONS - WILL RUN FOREVER\n",
    "\n",
    "def ismember(imagedata,dataset):\n",
    "  member=0\n",
    "  l=10000 #len(dataset)\n",
    "  for i in range(0, l-1):\n",
    "    if(np.array_equal(dataset[i],imagedata)):\n",
    "        member+=1\n",
    "  return member\n",
    "\n",
    "imagedata=test_dataset[1]\n",
    "\n",
    "#print(imagedata)\n",
    "def overlap(dataset1,dataset2):\n",
    "    ol=0\n",
    "    l=len(dataset1)\n",
    "    for i in range(0,l-1):        \n",
    "            ol+=ismember(dataset1[i],dataset2)\n",
    "    return ol\n",
    "   \n",
    "\n",
    "print(overlap(test_dataset,train_dataset))\n",
    "    \n"
   ]
  },
  {
   "cell_type": "code",
   "execution_count": null,
   "metadata": {
    "collapsed": false,
    "nbpresent": {
     "id": "b404867e-c3be-4a86-b6d2-db9a27c58dd6"
    }
   },
   "outputs": [],
   "source": [
    "train_dataset.flags.writeable=False\n",
    "test_dataset.flags.writeable=False\n",
    "dup_table={}\n",
    "dups=0\n",
    "for idx,img in enumerate(train_dataset):\n",
    "    h = hash(img.tobytes())\n",
    "    if h in dup_table and (train_dataset[dup_table[h]].data == img.data):\n",
    "       dups+=1\n",
    "       print('Duplicate image: %d matches %d'%( idx, dup_table[h]))\n",
    "    dup_table[h] = idx\n",
    "for idx,img in enumerate(test_dataset):\n",
    "    h = hash(img.tobytes())\n",
    "    if h in dup_table and (train_dataset[dup_table[h]].data == img.data):\n",
    "        print('Test image %d is in the training set' % idx)\n",
    "        \n",
    "py.imshow(train_dataset[634],cmap=plt.cm.gray)\n",
    "print(\"next\")\n",
    "print(dups)\n",
    "#py.imshow(train_dataset[235],cmap=plt.cm.gray)"
   ]
  },
  {
   "cell_type": "code",
   "execution_count": 63,
   "metadata": {
    "collapsed": false,
    "nbpresent": {
     "id": "0ddee1e3-fa19-49ab-9904-62451fd8b4b6"
    }
   },
   "outputs": [
    {
     "name": "stdout",
     "output_type": "stream",
     "text": [
      "duplicates in train_dataset are 12783\n",
      "uniqs in train_dataset are also probably 187217\n",
      "overlaps in train_dataset and test_dataset are 1067\n",
      "duplicates in test dataset are 220\n",
      "duplicates in valid dataset are 128\n",
      "Overlap in test and train is 1324\n",
      "[70105, 147459, 43013, 153606, 190471, 100360, 193538, 98318, 110607, 132440, 28690, 151571, 48283, 2070, 184343, 102424, 22778, 7917, 6172, 87564, 22559, 2080, 118818, 141347, 147099, 172072, 4138, 43, 16428, 157362, 77871, 53296, 26673, 69682, 51258, 45115, 180287, 6209, 139331, 53316, 152283, 151624, 41033, 8266, 2402, 151565, 53328, 190545, 22883, 112724, 8277, 170070, 133208, 189796, 168975, 198748, 120925, 39761, 125023, 24672, 149602, 75875, 157799, 139369, 6251, 170093, 63606, 160105, 181336, 16507, 155772, 128, 82049, 88197, 71815, 23916, 12428, 114829, 22670, 53534, 127120, 73873, 31102, 145558, 166040, 82073, 158, 73072, 110755, 4260, 14502, 115597, 14505, 60495, 59563, 28844, 129197, 69809, 188595, 170166, 176315, 18620, 176317, 92350, 12479, 116929, 198851, 174280, 141513, 170973, 118988, 106702, 110799, 10448, 90321, 110802, 2260, 102614, 95609, 139480, 172249, 47323, 51154, 12513, 147697, 168163, 8424, 114922, 47339, 16621, 149744, 178417, 180466, 176371, 57981, 114933, 139511, 121081, 131322, 168187, 96508, 22783, 145667, 133380, 104833, 192556, 149772, 67856, 59665, 8466, 39190, 82199, 102683, 123164, 47390, 58757, 14627, 125220, 198949, 24870, 93233, 74024, 127331, 40859, 172333, 92463, 119092, 35126, 104759, 18744, 88799, 143678, 8511, 127296, 67905, 166212, 145734, 90442, 176459, 76108, 63821, 137550, 129421, 47440, 162794, 186708, 72021, 180566, 141655, 188760, 14878, 172383, 145760, 14690, 16739, 12646, 82279, 97340, 72913, 92524, 22897, 47474, 43379, 45428, 162168, 186747, 176510, 117119, 49537, 8579, 149895, 8585, 82317, 43539, 162191, 158096, 8593, 174485, 166294, 141719, 181141, 180634, 156059, 133532, 53661, 151970, 44000, 45478, 125351, 160168, 142351, 167340, 16812, 27054, 111023, 45488, 43441, 35250, 8947, 121268, 158133, 80311, 178616, 29113, 2492, 166333, 31166, 8639, 176578, 25027, 141764, 59845, 119885, 35280, 45229, 10707, 139732, 164309, 98775, 180697, 113115, 154076, 102882, 119972, 37351, 105212, 166379, 4588, 18173, 135592, 158194, 41461, 106998, 59213, 123387, 4605, 92670, 76287, 18944, 15104, 172547, 156164, 174599, 4616, 199084, 129546, 131597, 109070, 4623, 8721, 195091, 37398, 6681, 47645, 41502, 30469, 80304, 143907, 113188, 185436, 139818, 37422, 77917, 41520, 139825, 100987, 96819, 148020, 86581, 117302, 193080, 156221, 135744, 112395, 21061, 148038, 102984, 92258, 66127, 107088, 29265, 49251, 98085, 158294, 111191, 78425, 168538, 193116, 125534, 115296, 41569, 31331, 117350, 72295, 184936, 68201, 2667, 156270, 199279, 27473, 45682, 2676, 125557, 158327, 80504, 64121, 66170, 96891, 168573, 37502, 156437, 137856, 57985, 92802, 6787, 57990, 139911, 170633, 101003, 113292, 51853, 88719, 197264, 176785, 176786, 174739, 72340, 96917, 141974, 29338, 178844, 19101, 6814, 197279, 15008, 184994, 102659, 154737, 72361, 12971, 199341, 12974, 182349, 136307, 162485, 195583, 58040, 191161, 148155, 8892, 154301, 45758, 156351, 185027, 41668, 70341, 170588, 92565, 129737, 119498, 66037, 180940, 717, 176848, 88785, 150226, 75555, 4820, 123605, 126184, 99035, 191224, 4829, 21214, 55077, 178912, 29411, 2788, 25319, 193256, 144105, 156394, 107245, 92911, 195368, 148210, 10995, 125684, 21237, 131831, 160504, 29433, 72444, 34055, 2817, 72450, 177963, 6916, 37640, 99081, 92938, 75223, 178957, 54033, 6931, 43797, 51673, 6940, 80669, 123679, 54048, 81712, 8994, 187172, 150662, 121640, 184796, 119597, 142126, 168751, 97074, 82739, 27444, 23349, 125750, 87795, 156472, 176953, 31550, 2869, 74361, 96661, 70474, 97470, 185164, 40468, 52049, 67043, 172886, 150360, 5484, 41891, 104566, 58207, 52064, 162658, 99173, 167057, 43880, 86889, 22077, 136043, 109420, 134001, 144244, 117624, 45945, 42996, 166780, 142205, 33664, 144257, 91013, 58246, 35720, 75244, 70538, 187277, 26602, 140176, 27538, 168851, 189333, 5014, 144280, 138138, 43931, 189340, 119712, 172961, 106075, 99235, 160676, 5029, 138470, 146344, 121771, 111532, 99248, 17329, 99250, 35763, 109492, 95158, 89015, 39864, 52153, 107450, 185276, 41802, 172990, 113599, 5057, 72523, 19397, 62406, 32, 78668, 99831, 181196, 25550, 182251, 105428, 9174, 35539, 52816, 27609, 148443, 39900, 37853, 166878, 87008, 111585, 109538, 51707, 154596, 166885, 187367, 21480, 191466, 68589, 69117, 185328, 187377, 15347, 107510, 144375, 150405, 99325, 103422, 146431, 54274, 45034, 181078, 103432, 181257, 173066, 13537, 113676, 152591, 95064, 21523, 72725, 74774, 198489, 138472, 181256, 146467, 199716, 29873, 117800, 17451, 27692, 52269, 42030, 17457, 87093, 60470, 44087, 97336, 124084, 169019, 3132, 156734, 1087, 99168, 160834, 50243, 58439, 142408, 19529, 181324, 56162, 156750, 123983, 89168, 78932, 156759, 162888, 121948, 83037, 33886, 27744, 68301, 163003, 99430, 52327, 17255, 56428, 167022, 76912, 191601, 138884, 29811, 52340, 142453, 31593, 126072, 74873, 5242, 21627, 87168, 13441, 173186, 88784, 197764, 7020, 31878, 63681, 105608, 62316, 58506, 99467, 95372, 144529, 85138, 7317, 136729, 21659, 158877, 132254, 85152, 103588, 197798, 29841, 91062, 17954, 118291, 177329, 70836, 23733, 109428, 54459, 44234, 195774, 17599, 167104, 85185, 169155, 66758, 66759, 87240, 15561, 177354, 26146, 138104, 97490, 165076, 152789, 105688, 117977, 58590, 134337, 1249, 83174, 91367, 38120, 179436, 149192, 17647, 58920, 83187, 72951, 82264, 58617, 48378, 54144, 24593, 62725, 46342, 111879, 79115, 199949, 5677, 140560, 52498, 7443, 199038, 80089, 167192, 83844, 65585, 134427, 36124, 154910, 142623, 122144, 10800, 116004, 5414, 79143, 101672, 87338, 141959, 34093, 27950, 58672, 36597, 52532, 171317, 34102, 61321, 107832, 154937, 89403, 3391, 30714, 76000, 152898, 95457, 30024, 87369, 179534, 66895, 117819, 227, 126139, 71000, 34372, 191837, 142689, 38244, 152933, 44390, 103783, 1385, 111978, 81608, 48495, 150896, 16616, 128370, 139029, 85367, 25976, 140665, 64890, 181628, 149738, 114046, 73016, 122856, 7557, 71051, 54850, 152975, 87441, 116114, 119363, 150932, 34197, 173462, 134551, 81305, 114078, 105889, 187291, 128423, 173484, 118189, 196017, 75187, 11700, 173497, 187837, 10551, 130498, 85443, 155076, 58821, 46534, 186273, 67016, 110025, 71119, 127507, 6187, 135075, 114937, 163288, 26075, 38364, 46330, 50654, 159200, 120289, 148963, 144868, 30181, 7654, 128492, 118253, 13807, 181745, 140786, 194148, 157173, 110071, 196088, 13817, 67839, 30204, 79786, 140799, 84409, 179115, 77319, 32265, 81418, 13836, 49766, 65038, 42511, 58427, 67843, 81428, 108053, 167446, 56857, 128539, 77340, 122398, 11807, 183840, 83490, 95779, 185606, 153128, 103977, 18397, 144939, 173613, 170171, 132657, 192051, 15926, 91705, 139606, 5694, 134722, 44611, 52804, 149061, 27468, 108812, 126539, 160157, 132688, 159313, 151125, 84921, 140888, 175705, 149083, 152506, 40655, 110176, 65121, 114275, 128612, 163429, 88337, 186983, 61040, 8808, 136467, 151156, 120437, 145553, 44664, 52857, 165498, 159356, 26242, 81540, 163461, 85641, 40586, 105099, 83596, 22157, 3727, 56976, 5778, 142997, 1877, 57967, 198301, 171678, 120773, 48752, 79522, 110243, 145060, 79525, 65137, 155305, 97965, 57009, 26290, 56956, 194228, 159413, 42678, 7863, 30393, 106170, 34491, 136892, 89789, 4725, 175082, 11211, 5832, 141004, 87759, 14034, 199972, 179208, 71383, 73432, 163108, 131403, 100062, 157409, 130787, 169700, 179494, 188028, 177899, 38636, 75756, 60753, 154501, 44784, 77553, 16115, 79605, 163389, 143611, 46840, 32505, 167675, 104189, 32512, 132866, 174379, 16132, 124886, 149254, 100103, 177930, 48635, 89868, 79631, 31704, 106751, 61205, 186134, 113606, 139033, 161562, 159916, 184093, 126750, 198277, 83745, 79835, 26316, 108219, 34600, 196393, 114474, 141099, 69420, 137005, 119608, 110384, 177969, 12082, 34441, 145716, 20111, 134974, 18240, 69441, 10051, 34628, 89925, 85831, 55607, 190284, 172256, 89934, 3921, 141141, 196438, 130006, 26045, 63282, 8032, 192353, 27341, 192355, 51687, 36713, 24427, 67439, 134120, 128883, 75636, 75637, 147319, 31380, 99647, 69501, 12158, 20353, 14211, 67460, 10117, 16264, 157577, 100234, 106477, 173968, 157585, 120723, 30612, 126874, 176027, 130864, 182176, 192417, 191490, 116379, 182180, 16293, 1958, 196520, 24490, 167852, 43677, 81840, 60744, 69554, 167859, 169908, 116382, 145334, 151479, 20468, 32698, 16315, 98236, 94538, 25248, 104386, 162123, 61380, 143301, 118727, 122824, 71625, 153250, 38863, 51152, 49106, 122835, 16341, 85974, 14296, 184281, 178138, 98267, 18396, 42973, 153253, 61443, 90084, 55269, 96231, 99394, 167913, 4074, 139243, 81900, 30701, 116718, 127126, 51185, 173461, 100339, 59380, 41982, 79311, 97961, 98298, 75771, 38908, 59389, 98302, 90111]\n",
      "Overlap in valid and train is 1067\n"
     ]
    }
   ],
   "source": [
    "\n",
    "# FINDING DUPLICATES AND OVERLAP\n",
    "\n",
    "def findidx(el,dataset,idxlist):\n",
    "    for idx in idxlist:\n",
    "        idxitem= dataset[idx]\n",
    "        if(el.data==idxitem.data): # return idx of first match\n",
    "            return idx  # is duplicate  \n",
    "    return -1 # no match\n",
    "\n",
    "\n",
    "def hashf(el):\n",
    "    return el.tobytes()\n",
    "\n",
    "\n",
    "def duplicates(dataset):\n",
    "    uniqsdict = {} #dictionary for training set that will only have uniq images\n",
    "\n",
    "    dups=0\n",
    "    for idx,el in enumerate(dataset):       \n",
    "        h=hash(hashf(el))\n",
    "        if(h in uniqsdict):         \n",
    "            if(findidx(el,dataset,uniqsdict[h])>-1): #check whether image is a duplicate\n",
    "                dups+=1          \n",
    "            else: # image not duplicate, so add it to chain of images with same hash but uniq\n",
    "                uniqsdict[h].append(idx)    \n",
    "        else: #haven't ever seen this image\n",
    "            uniqsdict[h]=[idx]            \n",
    "    return (dups,uniqsdict)\n",
    "\n",
    "def overlap(dataset, primary_dataset):\n",
    "    (dups,uniqsdict)=duplicates(primary_dataset)\n",
    "    overlapsdict={} #dictionary for overlaps in test set corresponding to the entry in train_dataset\n",
    "    for idx,el in enumerate(dataset):\n",
    "        h=hash(hashf(el))\n",
    "        if(h in uniqsdict):\n",
    "            fnd=findidx(el,primary_dataset,uniqsdict[h]) # duplicate to that in train_dataset\n",
    "            if(fnd>-1):\n",
    "                if(fnd in overlapsdict):\n",
    "                    overlapsdict[fnd].append(idx)\n",
    "                else:\n",
    "                    overlapsdict[fnd]=[idx]\n",
    "\n",
    "    overlaps = sum([len(ol) for ol in overlapsdict.values()])\n",
    "    return (overlaps,overlapsdict)\n",
    "\n",
    "(num_dups,uniqs)=duplicates(train_dataset)\n",
    "(num_overlaps,overlapdict)=overlap(valid_dataset,train_dataset)\n",
    "        \n",
    "print('duplicates in train_dataset are %d'% num_dups)\n",
    "print('uniqs in train_dataset are also probably %d'%len(uniqs.values()))\n",
    "print('overlaps in train_dataset and test_dataset are %d'% num_overlaps)\n",
    "print('duplicates in test dataset are %d'% duplicates(test_dataset)[0])\n",
    "print('duplicates in valid dataset are %d'% duplicates(valid_dataset)[0])\n",
    "\n",
    "# find overlap between train and test sets\n",
    "(overlaps,overlapsdict)=overlap(test_dataset,train_dataset)\n",
    "idxoverlap_test_dataset=list(overlapsdict.keys())\n",
    "print('Overlap in test and train is %d'%overlaps)\n",
    "\n",
    "(overlaps,overlapsdict)=overlap(valid_dataset,train_dataset)\n",
    "idxoverlap_valid_dataset=list(overlapsdict.keys())\n",
    "print('Overlap in valid and train is %d'%overlaps)\n",
    "\n",
    "idxoverlap_all=list(set(idxoverlap_test_dataset).union(set(idxoverlap_valid_dataset)))\n",
    "\n",
    "\n",
    "\n"
   ]
  },
  {
   "cell_type": "code",
   "execution_count": 60,
   "metadata": {
    "collapsed": false,
    "nbpresent": {
     "id": "dddee962-f7fa-41ef-8fa2-17a8ea8cdb09"
    }
   },
   "outputs": [
    {
     "name": "stdout",
     "output_type": "stream",
     "text": [
      "[1, 2, 3, 4, 5, 6, 7]\n",
      "187217\n",
      "9780\n",
      "9872\n"
     ]
    }
   ],
   "source": [
    "# SANITIZING DATASETS #\n",
    "\n",
    "def downsize(dataset,idxshortlist):\n",
    "    img_size=28\n",
    "    l=len(idxshortlist)\n",
    "    shortlist = np.ndarray((l, img_size, img_size), dtype=np.float32)\n",
    "    j=0\n",
    "    for i in idxshortlist:\n",
    "        shortlist[j,:,:]=dataset[i]\n",
    "        j+=1\n",
    "    return shortlist\n",
    "    \n",
    "sl= downsize(train_dataset,[0])    \n",
    "\n",
    "#print(sl)\n",
    "#print(sl.shape)\n",
    "\n",
    "# remove duplicates from train_dataset\n",
    "(num_dups,uniqs)=duplicates(train_dataset)\n",
    "#uniqs.values()\n",
    "\n",
    "def mergelist(alist):\n",
    "    x=[]\n",
    "    for el in alist:\n",
    "        x.extend(el)\n",
    "    return x\n",
    "\n",
    "print(mergelist([[1,2],[3],[4,5,6],[7]]))\n",
    "\n",
    "\n",
    "sanitized_train_dataset=downsize(train_dataset,mergelist(uniqs.values()))\n",
    "print(len(sanitized_train_dataset))\n",
    "\n",
    "(num_dups,uniqs)=duplicates(test_dataset)\n",
    "sanitized_test_dataset=downsize(test_dataset,mergelist(uniqs.values()))\n",
    "print(len(sanitized_test_dataset))\n",
    "\n",
    "(num_dups,uniqs)=duplicates(valid_dataset)\n",
    "sanitized_valid_dataset=downsize(valid_dataset,mergelist(uniqs.values()))\n",
    "print(len(sanitized_valid_dataset))\n",
    "\n",
    "(overlaps,overlapsdict)=overlap(sanitized_test_dataset,sanitized_train_dataset)\n",
    "idxoverlap_test_dataset=list(overlapsdict.keys())\n",
    "print('Overlap in test and train is %d'%overlaps)\n",
    "\n",
    "(overlaps,overlapsdict)=overlap(sanitized_valid_dataset,sanitized_train_dataset)\n",
    "idxoverlap_valid_dataset=list(overlapsdict.keys())\n",
    "print('Overlap in valid and train is %d'%overlaps)\n",
    "\n",
    "idxoverlap_all=list(set(idxoverlap_test_dataset).union(set(idxoverlap_valid_dataset)))\n",
    "\n",
    "def eliminate(dataset,idxelimlist):\n",
    "    img_size=28\n",
    "    l=len(dataset)-len(idxlimlist)\n",
    "    shortlist = np.ndarray((l, img_size, img_size), dtype=np.float32)\n",
    "    j=0\n",
    "    for i in range(0,len(dataset)):\n",
    "        if not(i in idxelimlist):\n",
    "            shortlist[j,:,:]=dataset[i]\n",
    "        j+=1\n",
    "    return shortlist\n",
    "    \n",
    "\n",
    "\n",
    "sanitized_train_dataset=eliminate(sanitized_train_dataset,idxoverlap_all)\n",
    "\n",
    "print(len(sanitized_train_dataset))\n",
    "\n",
    "    \n"
   ]
  },
  {
   "cell_type": "code",
   "execution_count": 30,
   "metadata": {
    "collapsed": false,
    "nbpresent": {
     "id": "3927fbad-2fe3-4f31-8f34-becde7328d3e"
    }
   },
   "outputs": [
    {
     "name": "stdout",
     "output_type": "stream",
     "text": [
      "{70105: [7691], 147459: [7769], 43013: [793], 153606: [2474], 190471: [4211], 100360: [1194], 193538: [1834], 98318: [7919], 110607: [3441], 132440: [2873], 28690: [1421], 151571: [4531], 48283: [7369], 2070: [8286], 184343: [5081], 102424: [1883], 22778: [9164], 7917: [8919], 6172: [3638], 87564: [9162], 22559: [4586], 2080: [4958], 118818: [11], 141347: [7976], 147099: [2470], 172072: [3483], 4138: [1036], 43: [200], 16428: [3254], 157362: [2316], 77871: [2116], 53296: [3940], 26673: [625], 69682: [3828], 51258: [938], 45115: [5501], 180287: [6122], 6209: [482], 139331: [7464], 53316: [1405], 152283: [1732], 151624: [6717], 41033: [1536], 8266: [6018], 2402: [91], 151565: [4379], 53328: [7401], 190545: [9958], 22883: [1427], 112724: [2379], 8277: [6451], 170070: [8848], 133208: [815], 189796: [9408], 168975: [3374], 198748: [3186], 120925: [4802], 39761: [9500], 125023: [3618], 24672: [7756], 149602: [2239], 75875: [665], 157799: [3502], 139369: [3073], 6251: [4103], 170093: [9240], 63606: [3718], 160105: [9030], 181336: [9909], 16507: [1030], 155772: [6677], 128: [125, 155, 373, 383, 393, 407, 640, 672, 709, 745, 780, 914, 965, 1048, 1127, 1182, 1209, 1251, 1348, 1387, 1390, 1437, 1513, 1547, 1585, 1693, 1791, 1867, 1941, 2003, 2042, 2090, 2118, 2168, 2248, 2312, 2449, 2753, 2777, 2808, 2830, 2884, 2922, 2949, 2960, 3039, 3086, 3128, 3160, 3163, 3250, 3258, 3299, 3335, 3407, 3474, 3548, 3626, 3685, 3740, 3819, 3832, 3840, 3902, 3954, 3984, 4244, 4298, 4331, 4526, 4558, 4717, 4720, 4735, 4789, 4879, 4942, 5041, 5157, 5167, 5173, 5398, 5548, 5580, 5604, 5618, 5787, 5803, 5837, 5882, 5940, 5992, 6046, 6098, 6140, 6211, 6443, 6488, 6507, 6580, 6597, 6723, 6741, 6829, 6845, 6860, 6916, 6921, 7054, 7147, 7185, 7188, 7229, 7252, 7402, 7631, 7678, 7929, 7972, 8050, 8089, 8198, 8404, 8531, 8681, 8827, 8894, 8957, 9035, 9250, 9308, 9418, 9442, 9444, 9479, 9522, 9596, 9693, 9712, 9775, 9850], 82049: [7928], 88197: [6005], 71815: [2064], 23916: [5915, 7897], 12428: [4857], 114829: [4959], 22670: [7206], 53534: [8589], 127120: [8234], 73873: [6943], 31102: [5625], 145558: [5403], 166040: [552], 82073: [5005], 158: [162], 73072: [8232], 110755: [5854], 4260: [6151], 14502: [8649], 115597: [8264], 14505: [6737], 60495: [7457], 59563: [4004], 28844: [634], 129197: [3888], 69809: [4583], 188595: [5077], 170166: [2551], 176315: [1561], 18620: [2102], 176317: [7627], 92350: [9497], 12479: [2338], 116929: [2378], 198851: [7285], 174280: [350], 141513: [3693], 170973: [6307], 118988: [9703], 106702: [492], 110799: [3020], 10448: [5537], 90321: [1894], 110802: [2762], 2260: [4695], 102614: [5458], 95609: [6230], 139480: [4917], 172249: [5249], 47323: [447], 51154: [6303], 12513: [7515], 147697: [7387], 168163: [7405], 8424: [5514, 7217], 114922: [3007], 47339: [6694], 16621: [8779], 149744: [1063], 178417: [1386], 180466: [5839], 176371: [2571], 57981: [8072], 114933: [2613], 139511: [69], 121081: [422], 131322: [673], 168187: [1821], 96508: [9588], 22783: [2169], 145667: [2739], 133380: [4568], 104833: [8396], 192556: [7971], 149772: [1698], 67856: [234], 59665: [2175], 8466: [2011], 39190: [1267], 82199: [3592], 102683: [3037], 123164: [4463], 47390: [1053], 58757: [9505], 14627: [2531], 125220: [4897], 198949: [3085], 24870: [7986], 93233: [9841], 74024: [2948], 127331: [1822], 40859: [976], 172333: [3001], 92463: [5825], 119092: [1133], 35126: [3207], 104759: [5054], 18744: [4698], 88799: [9129], 143678: [4120], 8511: [2691], 127296: [4578], 67905: [6812], 166212: [6193], 145734: [5921], 90442: [4849], 176459: [1242], 76108: [6613], 63821: [8735], 137550: [1055], 129421: [6376], 47440: [9578], 162794: [2456, 9662], 186708: [8917], 72021: [2288], 180566: [3941], 141655: [1948], 188760: [2908], 14878: [9901], 172383: [4843], 145760: [5328], 14690: [4090], 16739: [4362], 12646: [9590], 82279: [3119], 97340: [7736], 72913: [9202], 92524: [1683], 22897: [6630], 47474: [4238], 43379: [5936], 45428: [1370], 162168: [4604], 186747: [5281], 176510: [1391], 117119: [4370], 49537: [697], 8579: [4415], 149895: [4980], 8585: [4340], 82317: [6203], 43539: [9562], 162191: [121], 158096: [7551], 8593: [5806], 174485: [2354], 166294: [6746], 141719: [1295, 1900], 181141: [8684], 180634: [9797], 156059: [3974], 133532: [6557], 53661: [3555], 151970: [5567], 44000: [8925], 45478: [7322], 125351: [8723], 160168: [1895], 142351: [8401], 167340: [7227], 16812: [4868, 6608], 27054: [1456], 111023: [1893], 45488: [2604], 43441: [7803], 35250: [227, 7499], 8947: [5525], 121268: [2644], 158133: [7714], 80311: [2100], 178616: [9386], 29113: [4030], 2492: [2504], 166333: [9470], 31166: [5713], 8639: [3253], 176578: [220], 25027: [6849], 141764: [5115], 59845: [7486], 119885: [8172], 35280: [2002], 45229: [6038], 10707: [3343], 139732: [1213], 164309: [8479], 98775: [7521], 180697: [4842], 113115: [6178], 154076: [1804], 102882: [6146], 119972: [8471], 37351: [5034], 105212: [6577], 166379: [1621, 1701], 4588: [7334], 18173: [9507], 135592: [8199], 158194: [8342], 41461: [2128], 106998: [8251], 59213: [9764], 123387: [5619], 4605: [1973], 92670: [6407], 76287: [4598], 18944: [2606], 15104: [8904], 172547: [884], 156164: [5193], 174599: [17], 4616: [2388, 4297, 6850, 7565, 7848], 199084: [6864], 129546: [2664], 131597: [9309], 109070: [5293], 4623: [5211], 8721: [6855], 195091: [5559], 37398: [3724], 6681: [9265], 47645: [8901], 41502: [7294], 30469: [6293], 80304: [3012], 143907: [2810], 113188: [5191], 185436: [6195], 139818: [7534], 37422: [1919], 77917: [6853], 41520: [5428], 139825: [5532], 100987: [8802], 96819: [5767], 148020: [1093], 86581: [7090], 117302: [6914], 193080: [3786], 156221: [1114], 135744: [1431], 112395: [6977], 21061: [7698], 148038: [6904], 102984: [2693], 92258: [324], 66127: [1879], 107088: [3317], 29265: [4488], 49251: [4280], 98085: [9991], 158294: [4137], 111191: [4635], 78425: [3174], 168538: [940], 193116: [2119], 125534: [6214], 115296: [6940], 41569: [1255], 31331: [7451], 117350: [3118], 72295: [4078], 184936: [1294], 68201: [427], 2667: [3856], 156270: [8613], 199279: [3623], 27473: [8378], 45682: [3221], 2676: [307], 125557: [5142], 158327: [6660], 80504: [8699], 64121: [6593], 66170: [4830], 96891: [5449], 168573: [4012], 37502: [9690], 156437: [5206], 137856: [3099], 57985: [5326], 92802: [9551], 6787: [8009], 57990: [6461], 139911: [5829], 170633: [6136], 101003: [2772], 113292: [1118], 51853: [238], 88719: [5367], 197264: [9696], 176785: [6148], 176786: [6851], 174739: [9073], 72340: [5801], 96917: [9842], 141974: [4557], 29338: [9981], 178844: [9834], 19101: [5967], 6814: [8364], 197279: [2071], 15008: [7377], 184994: [751], 102659: [6947], 154737: [7197], 72361: [8750], 12971: [7340], 199341: [375], 12974: [8691], 182349: [9080], 136307: [288], 162485: [5733], 195583: [8597], 58040: [3313], 191161: [5762], 148155: [4158, 5917], 8892: [1985], 154301: [5869], 45758: [3260], 156351: [1947], 185027: [4825], 41668: [7670], 70341: [1847], 170588: [9992], 92565: [3405], 129737: [359], 119498: [1115], 66037: [7383], 180940: [3307], 717: [461], 176848: [3505], 88785: [922], 150226: [3411], 75555: [8533], 4820: [599], 123605: [9098], 126184: [9760], 99035: [2975], 191224: [9405], 4829: [8031], 21214: [30], 55077: [5861], 178912: [1326], 29411: [3660], 2788: [7135], 25319: [5679], 193256: [5381], 144105: [6155], 156394: [5890], 107245: [4658], 92911: [3683], 195368: [1482], 148210: [9996], 10995: [4627], 125684: [5012], 21237: [8673], 131831: [2135], 160504: [1897], 29433: [4520], 72444: [5196], 34055: [4988], 2817: [6429], 72450: [6513, 8575], 177963: [9484], 6916: [2080], 37640: [8540], 99081: [6555], 92938: [3557], 75223: [8583], 178957: [4257], 54033: [5513], 6931: [708], 43797: [4801], 51673: [6172], 6940: [6496], 80669: [9978], 123679: [9368], 54048: [3829], 81712: [6221], 8994: [237], 187172: [6596], 150662: [6805], 121640: [3927], 184796: [2199], 119597: [5517], 142126: [5215], 168751: [6641], 97074: [5749], 82739: [1204], 27444: [541], 23349: [2680], 125750: [9268], 87795: [9595], 156472: [810], 176953: [4719], 31550: [7865], 2869: [1638], 74361: [8012], 96661: [7739], 70474: [3776], 97470: [7500], 185164: [4616], 40468: [9613], 52049: [1120], 67043: [6366], 172886: [3068], 150360: [2920], 5484: [6399], 41891: [3559], 104566: [8663], 58207: [1103, 4496], 52064: [130], 162658: [2576], 99173: [4055], 167057: [3890], 43880: [4365], 86889: [1785], 22077: [8103], 136043: [4098], 109420: [3805], 134001: [3205], 144244: [9173], 117624: [5563], 45945: [7179], 42996: [1380], 166780: [7374], 142205: [679], 33664: [554, 6761], 144257: [5420], 91013: [5555], 58246: [9413], 35720: [2755], 75244: [8642], 70538: [4166], 187277: [6708], 26602: [8952], 140176: [8887], 27538: [991], 168851: [2801], 189333: [4303], 5014: [2161], 144280: [240], 138138: [2469], 43931: [3296], 189340: [5923], 119712: [4209], 172961: [5011], 106075: [2618], 99235: [4407], 160676: [5874], 5029: [3671, 4862], 138470: [9335], 146344: [5106], 121771: [3561], 111532: [6530], 99248: [7679], 17329: [6446], 99250: [4289], 35763: [9193], 109492: [1284], 95158: [4131], 89015: [3942], 39864: [7379], 52153: [3550], 107450: [2434], 185276: [4538], 41802: [6341], 172990: [6364], 113599: [4369], 5057: [632], 72523: [7927], 19397: [2015], 62406: [3893], 32: [5441], 78668: [1825], 99831: [4671], 181196: [2087], 25550: [2906], 182251: [7815], 105428: [1236], 9174: [2519, 9450], 35539: [8808], 52816: [4696], 27609: [1399], 148443: [3100], 39900: [7637], 37853: [2825], 166878: [1872], 87008: [8211], 111585: [4870], 109538: [8126], 51707: [1505], 154596: [3919], 166885: [819], 187367: [250], 21480: [5795], 191466: [2626], 68589: [2805], 69117: [9008], 185328: [9451], 187377: [6011], 15347: [6774], 107510: [746], 144375: [7956], 150405: [5916], 99325: [3009], 103422: [1190], 146431: [5541], 54274: [1034], 45034: [2299], 181078: [2018], 103432: [4507], 181257: [794], 173066: [9270], 13537: [7651], 113676: [7757], 152591: [3372], 95064: [2851], 21523: [5730, 8011], 72725: [6790], 74774: [711], 198489: [9967], 138472: [9351], 181256: [5970], 146467: [5866], 199716: [6074], 29873: [4770], 117800: [5877], 17451: [2061], 27692: [6008], 52269: [4481], 42030: [5894], 17457: [7232], 87093: [5192], 60470: [3194], 44087: [1459], 97336: [6033], 124084: [7496], 169019: [2296, 9854], 3132: [5311], 156734: [2593], 1087: [4623], 99168: [7251], 160834: [8434], 50243: [7172], 58439: [5844], 142408: [5884], 19529: [306], 181324: [5782], 56162: [6600], 156750: [6430], 123983: [7121], 89168: [8675], 78932: [1844], 156759: [15], 162888: [8943], 121948: [2563], 83037: [9638], 33886: [6359], 27744: [5270], 68301: [9709], 163003: [854, 2216], 99430: [6984], 52327: [4411], 17255: [6705], 56428: [7309], 167022: [2653], 76912: [6899], 191601: [947], 138884: [8890], 29811: [1146], 52340: [3971], 142453: [165], 31593: [6998], 126072: [5008], 74873: [264], 5242: [8794], 21627: [5583], 87168: [7082], 13441: [1875], 173186: [1502], 88784: [8252], 197764: [484], 7020: [9293], 31878: [6021], 63681: [6585], 105608: [8620], 62316: [979], 58506: [6592], 99467: [3933], 95372: [2394], 144529: [2266], 85138: [3768], 7317: [5097], 136729: [9021], 21659: [820, 3270], 158877: [6711], 132254: [1106, 3881], 85152: [9601], 103588: [4358], 197798: [9639], 29841: [7189], 91062: [9788], 17954: [8606], 118291: [7948], 177329: [173], 70836: [5964], 23733: [2359], 109428: [9426], 54459: [3504], 44234: [1477], 195774: [6785], 17599: [8654], 167104: [9306], 85185: [4135], 169155: [600], 66758: [3668], 66759: [8783], 87240: [6620], 15561: [8752], 177354: [3992], 26146: [3246], 138104: [1676], 97490: [3647], 165076: [613], 152789: [3572], 105688: [8237], 117977: [3701], 58590: [1137], 134337: [9782], 1249: [1022], 83174: [1687], 91367: [1001], 38120: [8734], 179436: [4633], 149192: [8874], 17647: [77], 58920: [5305], 83187: [3453], 72951: [5278], 82264: [7800], 58617: [3960], 48378: [2134], 54144: [6589], 24593: [9406], 62725: [7328], 46342: [6679], 111879: [544], 79115: [3994], 199949: [5901], 5677: [7355], 140560: [8566], 52498: [920], 7443: [3845], 199038: [6878], 80089: [5705], 167192: [3600], 83844: [8798], 65585: [9917], 134427: [8971], 36124: [5600], 154910: [1308], 142623: [3240], 122144: [890], 10800: [839], 116004: [28], 5414: [1746], 79143: [6565], 101672: [2347], 87338: [6141], 141959: [7107], 34093: [1939], 27950: [7694], 58672: [2425], 36597: [4979], 52532: [8391], 171317: [1261], 34102: [1954], 61321: [2597], 107832: [1222], 154937: [9010], 89403: [8628], 3391: [2405], 30714: [9091], 76000: [8617], 152898: [7860], 95457: [5668], 30024: [289, 392], 87369: [3224, 8153], 179534: [9078], 66895: [3665], 117819: [4573], 227: [9107], 126139: [6427], 71000: [509], 34372: [1514], 191837: [6906], 142689: [1509], 38244: [6917], 152933: [7105], 44390: [7533], 103783: [7447], 1385: [3781], 111978: [3903], 81608: [2097], 48495: [1258], 150896: [7391], 16616: [8898], 128370: [8271], 139029: [7040], 85367: [4669], 25976: [8293], 140665: [724], 64890: [6742], 181628: [9731], 149738: [5155], 114046: [5258], 73016: [6598], 122856: [9584], 7557: [8028], 71051: [8595], 54850: [1706], 152975: [4318], 87441: [864], 116114: [2035], 119363: [8878], 150932: [2051], 34197: [545, 4360], 173462: [7436], 134551: [958], 81305: [3187], 114078: [6419], 105889: [6377], 187291: [3410], 128423: [1767], 173484: [4878], 118189: [7987], 196017: [7532], 75187: [8318], 11700: [2177], 173497: [5393], 187837: [4749], 10551: [8093], 130498: [6674], 85443: [7898], 155076: [2123], 58821: [6953], 46534: [1015], 186273: [3237], 67016: [2148], 110025: [723], 71119: [4659], 127507: [1319], 6187: [3350], 135075: [5671], 114937: [7136], 163288: [3898, 9388], 26075: [9962], 38364: [26], 46330: [3551], 50654: [9053], 159200: [1493], 120289: [2362], 148963: [763], 144868: [8958], 30181: [2932], 7654: [4307], 128492: [6309], 118253: [1381], 13807: [4961], 181745: [2611], 140786: [7512], 194148: [8273], 157173: [9409], 110071: [2139], 196088: [9525], 13817: [6284], 67839: [2689], 30204: [7656], 79786: [8876], 140799: [1977], 84409: [7831], 179115: [9061], 77319: [4327], 32265: [4413], 81418: [2363], 13836: [5082], 49766: [8343], 65038: [9679], 42511: [5919], 58427: [6450], 67843: [576], 81428: [9384], 108053: [9397], 167446: [1586], 56857: [2641], 128539: [9163], 77340: [9026], 122398: [831], 11807: [2506], 183840: [7164], 83490: [5286], 95779: [1904], 185606: [6960], 153128: [432], 103977: [638], 18397: [8201], 144939: [2692], 173613: [6668], 170171: [5558], 132657: [6291], 192051: [176], 15926: [9773], 91705: [9055], 139606: [7926], 5694: [9116], 134722: [3244], 44611: [6653], 52804: [3953], 149061: [4142], 27468: [1663], 108812: [4521], 126539: [3232], 160157: [7085], 132688: [2981], 159313: [6836], 151125: [3578], 84921: [9937], 140888: [9200], 175705: [1149], 149083: [109], 152506: [6327], 40655: [6603], 110176: [1618], 65121: [131], 114275: [3625], 128612: [5905], 163429: [462], 88337: [9177], 186983: [6289], 61040: [3843], 8808: [5347], 136467: [8510], 151156: [235], 120437: [3353], 145553: [8682], 44664: [2554], 52857: [1899], 165498: [129], 159356: [6372], 26242: [6873], 81540: [8836], 163461: [7171], 85641: [4323, 5924], 40586: [2357], 105099: [9287], 83596: [4032], 22157: [9823], 3727: [623], 56976: [4409], 5778: [6247], 142997: [501], 1877: [9517], 57967: [248], 198301: [4127], 171678: [3026], 120773: [3777], 48752: [8423], 79522: [3315], 110243: [5897], 145060: [8491], 79525: [3464], 65137: [5950], 155305: [6335], 97965: [6319], 57009: [6713], 26290: [4337], 56956: [9923], 194228: [4811], 159413: [2968], 42678: [4908], 7863: [7270], 30393: [7034], 106170: [7774], 34491: [5493], 136892: [7530], 89789: [9870], 4725: [8437], 175082: [6606], 11211: [7025], 5832: [3972], 141004: [4083], 87759: [2366], 14034: [7434], 199972: [9043], 179208: [3340], 71383: [2412], 73432: [6661], 163108: [6886], 131403: [9195], 100062: [2224], 157409: [33], 130787: [2117], 169700: [9654], 179494: [7856], 188028: [6542], 177899: [1515], 38636: [9964], 75756: [6149], 60753: [9252], 154501: [7864], 44784: [6150], 77553: [4918], 16115: [4101], 79605: [5478], 163389: [9017], 143611: [6869], 46840: [7925], 32505: [7526], 167675: [4118], 104189: [6846], 32512: [301], 132866: [7755], 174379: [9661], 16132: [1603], 124886: [122], 149254: [1123], 100103: [6769], 177930: [2256], 48635: [762], 89868: [698], 79631: [2785], 31704: [3727], 106751: [8188], 61205: [4050], 186134: [5622], 113606: [9232], 139033: [8512], 161562: [5516], 159916: [9000], 184093: [516, 5378], 126750: [1716], 198277: [9302], 83745: [101], 79835: [7724], 26316: [7218], 108219: [423], 34600: [7266], 196393: [1575], 114474: [5391], 141099: [594], 69420: [1196], 137005: [5832], 119608: [6112], 110384: [6104, 6698], 177969: [7028], 12082: [3519], 34441: [6026], 145716: [6485], 20111: [7594], 134974: [6994], 18240: [153], 69441: [2176], 10051: [4914], 34628: [1648], 89925: [6675], 85831: [9672], 55607: [4106], 190284: [4225], 172256: [9602], 89934: [261], 3921: [3467], 141141: [8048], 196438: [3884], 130006: [5968], 26045: [9617], 63282: [1440], 8032: [2612, 2903], 192353: [1537], 27341: [6732], 192355: [2902], 51687: [4148], 36713: [8636], 24427: [616], 67439: [3851], 134120: [2666], 128883: [1957], 75636: [1306], 75637: [8666], 147319: [1102], 31380: [9574], 99647: [1766], 69501: [1903], 12158: [1215], 20353: [412], 14211: [5629], 67460: [6817], 10117: [7997], 16264: [4670], 157577: [1069], 100234: [2861], 106477: [9339], 173968: [4041], 157585: [9889], 120723: [5735], 30612: [7325], 126874: [6764], 176027: [3219], 130864: [6607], 182176: [2802], 192417: [4182], 191490: [4167], 116379: [553], 182180: [6979], 16293: [9910], 1958: [2137], 196520: [7004], 24490: [8664], 167852: [4001], 43677: [8311], 81840: [7999], 60744: [9758], 69554: [2997], 167859: [228], 169908: [1697], 116382: [6962], 145334: [1189], 151479: [5741], 20468: [3963], 32698: [1613], 16315: [8703], 98236: [5862], 94538: [5404], 25248: [9184], 104386: [4076], 162123: [343], 61380: [3763], 143301: [3944], 118727: [1741], 122824: [8553], 71625: [9071], 153250: [465], 38863: [1855], 51152: [1896], 49106: [4445], 122835: [8736], 16341: [1690], 85974: [3991], 14296: [6980], 184281: [7116], 178138: [4741], 98267: [2332], 18396: [9203], 42973: [2850], 153253: [5599], 61443: [9540], 90084: [3929], 55269: [3389], 96231: [4677], 99394: [9117], 167913: [9234], 4074: [476], 139243: [399], 81900: [3614], 30701: [5812], 116718: [1225], 127126: [8460], 51185: [6184], 173461: [7203], 100339: [556], 59380: [4364], 41982: [475], 79311: [7605], 97961: [8046], 98298: [1658], 75771: [7924], 38908: [3352], 59389: [5252], 98302: [856, 9993], 90111: [2120]}\n",
      "128th image in train_dataset\n"
     ]
    },
    {
     "data": {
      "image/png": "[encoded data removed]",
      "text/plain": [
       "<matplotlib.figure.Figure at 0x22b15331e10>"
      ]
     },
     "metadata": {},
     "output_type": "display_data"
    },
    {
     "data": {
      "image/png": "[encoded data removed]",
      "text/plain": [
       "<matplotlib.figure.Figure at 0x22b13f4fda0>"
      ]
     },
     "metadata": {},
     "output_type": "display_data"
    },
    {
     "data": {
      "image/png": "[encoded data removed]",
      "text/plain": [
       "<matplotlib.figure.Figure at 0x22b0dd8d5c0>"
      ]
     },
     "metadata": {},
     "output_type": "display_data"
    }
   ],
   "source": [
    "print(dupdict)\n",
    "print(\"128th image in train_dataset\")\n",
    "py.figure(0)\n",
    "#128:[125,155,373,383,393,407,640]\n",
    "#141719: [1295, 1900]\n",
    "\n",
    "train_idx=141719\n",
    "test_list=[1295,1900]\n",
    "\n",
    "py.imshow(train_dataset[train_idx],cmap=plt.cm.gray)\n",
    "f=1\n",
    "for i in test_list:\n",
    "    fig=py.figure(f)\n",
    "    fig.suptitle(i)\n",
    "    f+=1\n",
    "    py.imshow(test_dataset[i],cmap=plt.cm.gray)\n"
   ]
  },
  {
   "cell_type": "markdown",
   "metadata": {
    "colab_type": "text",
    "id": "L8oww1s4JMQx",
    "nbpresent": {
     "id": "da111f95-8e2b-4c17-b788-84a3657ad371"
    }
   },
   "source": [
    "---\n",
    "Problem 6\n",
    "---------\n",
    "\n",
    "Let's get an idea of what an off-the-shelf classifier can give you on this data. It's always good to check that there is something to learn, and that it's a problem that is not so trivial that a canned solution solves it.\n",
    "\n",
    "Train a simple model on this data using 50, 100, 1000 and 5000 training samples. Hint: you can use the LogisticRegression model from sklearn.linear_model.\n",
    "\n",
    "Optional question: train an off-the-shelf model on all the data!\n",
    "\n",
    "---"
   ]
  },
  {
   "cell_type": "code",
   "execution_count": null,
   "metadata": {
    "collapsed": false,
    "nbpresent": {
     "id": "40a57ca8-346d-491f-8aa7-dc11ab6d6497"
    }
   },
   "outputs": [],
   "source": [
    "from sklearn import linear_model, metrics\n",
    "\n",
    "(train_len,w,h)=train_dataset.shape\n",
    "samples=5000\n",
    "train_samples = np.reshape(train_dataset,(train_len,w*h))[:samples]\n",
    "model = linear_model.LogisticRegression()\n",
    "model.fit(train_samples,train_labels[:samples])\n",
    "\n",
    "(test_len,wt,ht)=test_dataset.shape\n",
    "predict_label=model.predict(np.reshape(test_dataset,(test_len,wt*ht)))\n",
    "print(sum(test_labels==predict_label)*100/test_len)\n",
    "\n",
    "\n",
    "\n"
   ]
  },
  {
   "cell_type": "code",
   "execution_count": null,
   "metadata": {
    "collapsed": false,
    "nbpresent": {
     "id": "9a791a0b-d075-4c0f-9946-c8159863b271"
    }
   },
   "outputs": [],
   "source": [
    "(train_len,s1,s2)=train_dataset.shape\n",
    "print(train_dataset[0])\n",
    "train_ltd=np.reshape(train_dataset,(train_len,s1*s2))[0:49]\n",
    "print(train_ltd.shape)\n",
    "\n",
    "\n",
    "\n"
   ]
  },
  {
   "cell_type": "code",
   "execution_count": null,
   "metadata": {
    "collapsed": true,
    "nbpresent": {
     "id": "258aa429-562f-4f88-b269-201ff67d8abc"
    }
   },
   "outputs": [],
   "source": []
  }
 ],
 "metadata": {
  "anaconda-cloud": {},
  "colab": {
   "default_view": {},
   "name": "1_notmnist.ipynb",
   "provenance": [],
   "version": "0.3.2",
   "views": {}
  },
  "kernelspec": {
   "display_name": "Python [default]",
   "language": "python",
   "name": "python3"
  },
  "language_info": {
   "codemirror_mode": {
    "name": "ipython",
    "version": 3
   },
   "file_extension": ".py",
   "mimetype": "text/x-python",
   "name": "python",
   "nbconvert_exporter": "python",
   "pygments_lexer": "ipython3",
   "version": "3.5.2"
  },
  "nbpresent": {
   "slides": {},
   "themes": {
    "default": "e31df26d-8294-4e08-bba1-c0f718f6b85b",
    "theme": {
     "02195091-58d4-48b7-a7ef-5c226aa7c50c": {
      "backgrounds": {
       "backgroundColor": {
        "background-color": "backgroundColor",
        "id": "backgroundColor"
       }
      },
      "id": "02195091-58d4-48b7-a7ef-5c226aa7c50c",
      "palette": {
       "backgroundColor": {
        "id": "backgroundColor",
        "rgb": [
         34,
         34,
         34
        ]
       },
       "headingColor": {
        "id": "headingColor",
        "rgb": [
         256,
         256,
         256
        ]
       },
       "linkColor": {
        "id": "linkColor",
        "rgb": [
         66,
         175,
         250
        ]
       },
       "mainColor": {
        "id": "mainColor",
        "rgb": [
         256,
         256,
         256
        ]
       }
      },
      "rules": {
       "a": {
        "color": "linkColor"
       },
       "h1": {
        "color": "headingColor",
        "font-family": "Source Sans Pro",
        "font-size": 5.25
       },
       "h2": {
        "color": "headingColor",
        "font-family": "Source Sans Pro",
        "font-size": 4
       },
       "h3": {
        "color": "headingColor",
        "font-family": "Source Sans Pro",
        "font-size": 3.5
       },
       "h4": {
        "color": "headingColor",
        "font-family": "Source Sans Pro",
        "font-size": 3
       },
       "h5": {
        "color": "headingColor",
        "font-family": "Source Sans Pro"
       },
       "h6": {
        "color": "headingColor",
        "font-family": "Source Sans Pro"
       },
       "h7": {
        "color": "headingColor",
        "font-family": "Source Sans Pro"
       },
       "li": {
        "color": "mainColor",
        "font-family": "Source Sans Pro",
        "font-size": 6
       },
       "p": {
        "color": "mainColor",
        "font-family": "Source Sans Pro",
        "font-size": 6
       }
      },
      "text-base": {
       "color": "mainColor",
       "font-family": "Source Sans Pro",
       "font-size": 6
      }
     },
     "0cf59a4b-e718-4591-9d88-ba72820ff3bc": {
      "backgrounds": {
       "dc7afa04-bf90-40b1-82a5-726e3cff5267": {
        "background-color": "31af15d2-7e15-44c5-ab5e-e04b16a89eff",
        "id": "dc7afa04-bf90-40b1-82a5-726e3cff5267"
       }
      },
      "id": "0cf59a4b-e718-4591-9d88-ba72820ff3bc",
      "palette": {
       "19cc588f-0593-49c9-9f4b-e4d7cc113b1c": {
        "id": "19cc588f-0593-49c9-9f4b-e4d7cc113b1c",
        "rgb": [
         252,
         252,
         252
        ]
       },
       "31af15d2-7e15-44c5-ab5e-e04b16a89eff": {
        "id": "31af15d2-7e15-44c5-ab5e-e04b16a89eff",
        "rgb": [
         68,
         68,
         68
        ]
       },
       "50f92c45-a630-455b-aec3-788680ec7410": {
        "id": "50f92c45-a630-455b-aec3-788680ec7410",
        "rgb": [
         197,
         226,
         245
        ]
       },
       "c5cc3653-2ee1-402a-aba2-7caae1da4f6c": {
        "id": "c5cc3653-2ee1-402a-aba2-7caae1da4f6c",
        "rgb": [
         43,
         126,
         184
        ]
       },
       "efa7f048-9acb-414c-8b04-a26811511a21": {
        "id": "efa7f048-9acb-414c-8b04-a26811511a21",
        "rgb": [
         25.118061674008803,
         73.60176211453744,
         107.4819383259912
        ]
       }
      },
      "rules": {
       "a": {
        "color": "19cc588f-0593-49c9-9f4b-e4d7cc113b1c"
       },
       "blockquote": {
        "color": "50f92c45-a630-455b-aec3-788680ec7410",
        "font-size": 3
       },
       "code": {
        "font-family": "Anonymous Pro"
       },
       "h1": {
        "color": "19cc588f-0593-49c9-9f4b-e4d7cc113b1c",
        "font-family": "Merriweather",
        "font-size": 8
       },
       "h2": {
        "color": "19cc588f-0593-49c9-9f4b-e4d7cc113b1c",
        "font-family": "Merriweather",
        "font-size": 6
       },
       "h3": {
        "color": "50f92c45-a630-455b-aec3-788680ec7410",
        "font-family": "Lato",
        "font-size": 5.5
       },
       "h4": {
        "color": "c5cc3653-2ee1-402a-aba2-7caae1da4f6c",
        "font-family": "Lato",
        "font-size": 5
       },
       "h5": {
        "font-family": "Lato"
       },
       "h6": {
        "font-family": "Lato"
       },
       "h7": {
        "font-family": "Lato"
       },
       "li": {
        "color": "50f92c45-a630-455b-aec3-788680ec7410",
        "font-size": 3.25
       },
       "pre": {
        "font-family": "Anonymous Pro",
        "font-size": 4
       }
      },
      "text-base": {
       "color": "19cc588f-0593-49c9-9f4b-e4d7cc113b1c",
       "font-family": "Lato",
       "font-size": 4
      }
     },
     "116945f3-23de-4190-b327-8398dfed3bd8": {
      "id": "116945f3-23de-4190-b327-8398dfed3bd8",
      "palette": {
       "19cc588f-0593-49c9-9f4b-e4d7cc113b1c": {
        "id": "19cc588f-0593-49c9-9f4b-e4d7cc113b1c",
        "rgb": [
         252,
         252,
         252
        ]
       },
       "31af15d2-7e15-44c5-ab5e-e04b16a89eff": {
        "id": "31af15d2-7e15-44c5-ab5e-e04b16a89eff",
        "rgb": [
         68,
         68,
         68
        ]
       },
       "50f92c45-a630-455b-aec3-788680ec7410": {
        "id": "50f92c45-a630-455b-aec3-788680ec7410",
        "rgb": [
         155,
         177,
         192
        ]
       },
       "c5cc3653-2ee1-402a-aba2-7caae1da4f6c": {
        "id": "c5cc3653-2ee1-402a-aba2-7caae1da4f6c",
        "rgb": [
         43,
         126,
         184
        ]
       },
       "efa7f048-9acb-414c-8b04-a26811511a21": {
        "id": "efa7f048-9acb-414c-8b04-a26811511a21",
        "rgb": [
         25.118061674008803,
         73.60176211453744,
         107.4819383259912
        ]
       }
      },
      "rules": {
       "blockquote": {
        "color": "50f92c45-a630-455b-aec3-788680ec7410"
       },
       "code": {
        "font-family": "Anonymous Pro"
       },
       "h1": {
        "color": "c5cc3653-2ee1-402a-aba2-7caae1da4f6c",
        "font-family": "Lato",
        "font-size": 8
       },
       "h2": {
        "color": "c5cc3653-2ee1-402a-aba2-7caae1da4f6c",
        "font-family": "Lato",
        "font-size": 6
       },
       "h3": {
        "color": "50f92c45-a630-455b-aec3-788680ec7410",
        "font-family": "Lato",
        "font-size": 5.5
       },
       "h4": {
        "color": "c5cc3653-2ee1-402a-aba2-7caae1da4f6c",
        "font-family": "Lato",
        "font-size": 5
       },
       "h5": {
        "font-family": "Lato"
       },
       "h6": {
        "font-family": "Lato"
       },
       "h7": {
        "font-family": "Lato"
       },
       "pre": {
        "font-family": "Anonymous Pro",
        "font-size": 4
       }
      },
      "text-base": {
       "font-family": "Merriweather",
       "font-size": 4
      }
     },
     "333fa0c6-3292-4adf-8823-626851f3016c": {
      "backgrounds": {
       "backgroundColor": {
        "background-color": "backgroundColor",
        "id": "backgroundColor"
       }
      },
      "id": "333fa0c6-3292-4adf-8823-626851f3016c",
      "palette": {
       "backgroundColor": {
        "id": "backgroundColor",
        "rgb": [
         256,
         256,
         256
        ]
       },
       "headingColor": {
        "id": "headingColor",
        "rgb": [
         0,
         0,
         0
        ]
       },
       "linkColor": {
        "id": "linkColor",
        "rgb": [
         0,
         0,
         139
        ]
       },
       "mainColor": {
        "id": "mainColor",
        "rgb": [
         0,
         0,
         0
        ]
       }
      },
      "rules": {
       "a": {
        "color": "linkColor"
       },
       "h1": {
        "color": "headingColor",
        "font-family": "News Cycle",
        "font-size": 7
       },
       "h2": {
        "color": "headingColor",
        "font-family": "News Cycle",
        "font-size": 5
       },
       "h3": {
        "color": "headingColor",
        "font-family": "News Cycle",
        "font-size": 3.75
       },
       "h4": {
        "color": "headingColor",
        "font-family": "News Cycle",
        "font-size": 3
       },
       "h5": {
        "color": "headingColor",
        "font-family": "News Cycle"
       },
       "h6": {
        "color": "headingColor",
        "font-family": "News Cycle"
       },
       "h7": {
        "color": "headingColor",
        "font-family": "News Cycle"
       },
       "li": {
        "color": "mainColor",
        "font-family": "Lato",
        "font-size": 5
       },
       "p": {
        "color": "mainColor",
        "font-family": "Lato",
        "font-size": 5
       }
      },
      "text-base": {
       "color": "mainColor",
       "font-family": "Lato",
       "font-size": 5
      }
     },
     "37ed4ae7-c011-49f4-9c9b-64d6acf2c887": {
      "id": "37ed4ae7-c011-49f4-9c9b-64d6acf2c887",
      "palette": {
       "19cc588f-0593-49c9-9f4b-e4d7cc113b1c": {
        "id": "19cc588f-0593-49c9-9f4b-e4d7cc113b1c",
        "rgb": [
         252,
         252,
         252
        ]
       },
       "31af15d2-7e15-44c5-ab5e-e04b16a89eff": {
        "id": "31af15d2-7e15-44c5-ab5e-e04b16a89eff",
        "rgb": [
         68,
         68,
         68
        ]
       },
       "50f92c45-a630-455b-aec3-788680ec7410": {
        "id": "50f92c45-a630-455b-aec3-788680ec7410",
        "rgb": [
         155,
         177,
         192
        ]
       },
       "c5cc3653-2ee1-402a-aba2-7caae1da4f6c": {
        "id": "c5cc3653-2ee1-402a-aba2-7caae1da4f6c",
        "rgb": [
         43,
         126,
         184
        ]
       },
       "efa7f048-9acb-414c-8b04-a26811511a21": {
        "id": "efa7f048-9acb-414c-8b04-a26811511a21",
        "rgb": [
         25.118061674008803,
         73.60176211453744,
         107.4819383259912
        ]
       }
      },
      "rules": {
       "blockquote": {
        "color": "50f92c45-a630-455b-aec3-788680ec7410"
       },
       "code": {
        "font-family": "Anonymous Pro"
       },
       "h1": {
        "color": "c5cc3653-2ee1-402a-aba2-7caae1da4f6c",
        "font-family": "Lato",
        "font-size": 8
       },
       "h2": {
        "color": "c5cc3653-2ee1-402a-aba2-7caae1da4f6c",
        "font-family": "Lato",
        "font-size": 6
       },
       "h3": {
        "color": "50f92c45-a630-455b-aec3-788680ec7410",
        "font-family": "Lato",
        "font-size": 5.5
       },
       "h4": {
        "color": "c5cc3653-2ee1-402a-aba2-7caae1da4f6c",
        "font-family": "Lato",
        "font-size": 5
       },
       "h5": {
        "font-family": "Lato"
       },
       "h6": {
        "font-family": "Lato"
       },
       "h7": {
        "font-family": "Lato"
       },
       "pre": {
        "font-family": "Anonymous Pro",
        "font-size": 4
       }
      },
      "text-base": {
       "font-family": "Merriweather",
       "font-size": 4
      }
     },
     "491ae221-7888-4000-93db-fd8d4d8eeb73": {
      "id": "491ae221-7888-4000-93db-fd8d4d8eeb73",
      "palette": {
       "19cc588f-0593-49c9-9f4b-e4d7cc113b1c": {
        "id": "19cc588f-0593-49c9-9f4b-e4d7cc113b1c",
        "rgb": [
         252,
         252,
         252
        ]
       },
       "31af15d2-7e15-44c5-ab5e-e04b16a89eff": {
        "id": "31af15d2-7e15-44c5-ab5e-e04b16a89eff",
        "rgb": [
         68,
         68,
         68
        ]
       },
       "50f92c45-a630-455b-aec3-788680ec7410": {
        "id": "50f92c45-a630-455b-aec3-788680ec7410",
        "rgb": [
         155,
         177,
         192
        ]
       },
       "c5cc3653-2ee1-402a-aba2-7caae1da4f6c": {
        "id": "c5cc3653-2ee1-402a-aba2-7caae1da4f6c",
        "rgb": [
         43,
         126,
         184
        ]
       },
       "efa7f048-9acb-414c-8b04-a26811511a21": {
        "id": "efa7f048-9acb-414c-8b04-a26811511a21",
        "rgb": [
         25.118061674008803,
         73.60176211453744,
         107.4819383259912
        ]
       }
      },
      "rules": {
       "blockquote": {
        "color": "50f92c45-a630-455b-aec3-788680ec7410"
       },
       "code": {
        "font-family": "Anonymous Pro"
       },
       "h1": {
        "color": "c5cc3653-2ee1-402a-aba2-7caae1da4f6c",
        "font-family": "Lato",
        "font-size": 8
       },
       "h2": {
        "color": "c5cc3653-2ee1-402a-aba2-7caae1da4f6c",
        "font-family": "Lato",
        "font-size": 6
       },
       "h3": {
        "color": "50f92c45-a630-455b-aec3-788680ec7410",
        "font-family": "Lato",
        "font-size": 5.5
       },
       "h4": {
        "color": "c5cc3653-2ee1-402a-aba2-7caae1da4f6c",
        "font-family": "Lato",
        "font-size": 5
       },
       "h5": {
        "font-family": "Lato"
       },
       "h6": {
        "font-family": "Lato"
       },
       "h7": {
        "font-family": "Lato"
       },
       "pre": {
        "font-family": "Anonymous Pro",
        "font-size": 4
       }
      },
      "text-base": {
       "font-family": "Merriweather",
       "font-size": 4
      }
     },
     "67c4f90e-2671-4614-b48a-2bf17f1fa35b": {
      "backgrounds": {
       "backgroundColor": {
        "background-color": "backgroundColor",
        "id": "backgroundColor"
       }
      },
      "id": "67c4f90e-2671-4614-b48a-2bf17f1fa35b",
      "palette": {
       "backgroundColor": {
        "id": "backgroundColor",
        "rgb": [
         256,
         256,
         256
        ]
       },
       "headingColor": {
        "id": "headingColor",
        "rgb": [
         0,
         0,
         0
        ]
       },
       "linkColor": {
        "id": "linkColor",
        "rgb": [
         0,
         0,
         139
        ]
       },
       "mainColor": {
        "id": "mainColor",
        "rgb": [
         0,
         0,
         0
        ]
       }
      },
      "rules": {
       "a": {
        "color": "linkColor"
       },
       "h1": {
        "color": "headingColor",
        "font-family": "News Cycle",
        "font-size": 7
       },
       "h2": {
        "color": "headingColor",
        "font-family": "News Cycle",
        "font-size": 5
       },
       "h3": {
        "color": "headingColor",
        "font-family": "News Cycle",
        "font-size": 3.75
       },
       "h4": {
        "color": "headingColor",
        "font-family": "News Cycle",
        "font-size": 3
       },
       "h5": {
        "color": "headingColor",
        "font-family": "News Cycle"
       },
       "h6": {
        "color": "headingColor",
        "font-family": "News Cycle"
       },
       "h7": {
        "color": "headingColor",
        "font-family": "News Cycle"
       },
       "li": {
        "color": "mainColor",
        "font-family": "Lato",
        "font-size": 5
       },
       "p": {
        "color": "mainColor",
        "font-family": "Lato",
        "font-size": 5
       }
      },
      "text-base": {
       "color": "mainColor",
       "font-family": "Lato",
       "font-size": 5
      }
     },
     "b47b6600-b6f6-4c93-8ffc-4cf5e4415e80": {
      "id": "b47b6600-b6f6-4c93-8ffc-4cf5e4415e80",
      "palette": {
       "19cc588f-0593-49c9-9f4b-e4d7cc113b1c": {
        "id": "19cc588f-0593-49c9-9f4b-e4d7cc113b1c",
        "rgb": [
         252,
         252,
         252
        ]
       },
       "31af15d2-7e15-44c5-ab5e-e04b16a89eff": {
        "id": "31af15d2-7e15-44c5-ab5e-e04b16a89eff",
        "rgb": [
         68,
         68,
         68
        ]
       },
       "50f92c45-a630-455b-aec3-788680ec7410": {
        "id": "50f92c45-a630-455b-aec3-788680ec7410",
        "rgb": [
         155,
         177,
         192
        ]
       },
       "c5cc3653-2ee1-402a-aba2-7caae1da4f6c": {
        "id": "c5cc3653-2ee1-402a-aba2-7caae1da4f6c",
        "rgb": [
         43,
         126,
         184
        ]
       },
       "efa7f048-9acb-414c-8b04-a26811511a21": {
        "id": "efa7f048-9acb-414c-8b04-a26811511a21",
        "rgb": [
         25.118061674008803,
         73.60176211453744,
         107.4819383259912
        ]
       }
      },
      "rules": {
       "blockquote": {
        "color": "50f92c45-a630-455b-aec3-788680ec7410"
       },
       "code": {
        "font-family": "Anonymous Pro"
       },
       "h1": {
        "color": "c5cc3653-2ee1-402a-aba2-7caae1da4f6c",
        "font-family": "Lato",
        "font-size": 8
       },
       "h2": {
        "color": "c5cc3653-2ee1-402a-aba2-7caae1da4f6c",
        "font-family": "Lato",
        "font-size": 6
       },
       "h3": {
        "color": "50f92c45-a630-455b-aec3-788680ec7410",
        "font-family": "Lato",
        "font-size": 5.5
       },
       "h4": {
        "color": "c5cc3653-2ee1-402a-aba2-7caae1da4f6c",
        "font-family": "Lato",
        "font-size": 5
       },
       "h5": {
        "font-family": "Lato"
       },
       "h6": {
        "font-family": "Lato"
       },
       "h7": {
        "font-family": "Lato"
       },
       "pre": {
        "font-family": "Anonymous Pro",
        "font-size": 4
       }
      },
      "text-base": {
       "font-family": "Merriweather",
       "font-size": 4
      }
     },
     "c88095cc-ab99-46b8-a991-30cdf9442841": {
      "backgrounds": {
       "backgroundColor": {
        "background-color": "backgroundColor",
        "id": "backgroundColor"
       }
      },
      "id": "c88095cc-ab99-46b8-a991-30cdf9442841",
      "palette": {
       "backgroundColor": {
        "id": "backgroundColor",
        "rgb": [
         34,
         34,
         34
        ]
       },
       "headingColor": {
        "id": "headingColor",
        "rgb": [
         256,
         256,
         256
        ]
       },
       "linkColor": {
        "id": "linkColor",
        "rgb": [
         66,
         175,
         250
        ]
       },
       "mainColor": {
        "id": "mainColor",
        "rgb": [
         256,
         256,
         256
        ]
       }
      },
      "rules": {
       "a": {
        "color": "linkColor"
       },
       "h1": {
        "color": "headingColor",
        "font-family": "Source Sans Pro",
        "font-size": 5.25
       },
       "h2": {
        "color": "headingColor",
        "font-family": "Source Sans Pro",
        "font-size": 4
       },
       "h3": {
        "color": "headingColor",
        "font-family": "Source Sans Pro",
        "font-size": 3.5
       },
       "h4": {
        "color": "headingColor",
        "font-family": "Source Sans Pro",
        "font-size": 3
       },
       "h5": {
        "color": "headingColor",
        "font-family": "Source Sans Pro"
       },
       "h6": {
        "color": "headingColor",
        "font-family": "Source Sans Pro"
       },
       "h7": {
        "color": "headingColor",
        "font-family": "Source Sans Pro"
       },
       "li": {
        "color": "mainColor",
        "font-family": "Source Sans Pro",
        "font-size": 6
       },
       "p": {
        "color": "mainColor",
        "font-family": "Source Sans Pro",
        "font-size": 6
       }
      },
      "text-base": {
       "color": "mainColor",
       "font-family": "Source Sans Pro",
       "font-size": 6
      }
     },
     "d00ba16b-3d0a-4349-838f-10ab6f340d86": {
      "id": "d00ba16b-3d0a-4349-838f-10ab6f340d86",
      "palette": {
       "19cc588f-0593-49c9-9f4b-e4d7cc113b1c": {
        "id": "19cc588f-0593-49c9-9f4b-e4d7cc113b1c",
        "rgb": [
         252,
         252,
         252
        ]
       },
       "31af15d2-7e15-44c5-ab5e-e04b16a89eff": {
        "id": "31af15d2-7e15-44c5-ab5e-e04b16a89eff",
        "rgb": [
         68,
         68,
         68
        ]
       },
       "50f92c45-a630-455b-aec3-788680ec7410": {
        "id": "50f92c45-a630-455b-aec3-788680ec7410",
        "rgb": [
         155,
         177,
         192
        ]
       },
       "c5cc3653-2ee1-402a-aba2-7caae1da4f6c": {
        "id": "c5cc3653-2ee1-402a-aba2-7caae1da4f6c",
        "rgb": [
         43,
         126,
         184
        ]
       },
       "efa7f048-9acb-414c-8b04-a26811511a21": {
        "id": "efa7f048-9acb-414c-8b04-a26811511a21",
        "rgb": [
         25.118061674008803,
         73.60176211453744,
         107.4819383259912
        ]
       }
      },
      "rules": {
       "blockquote": {
        "color": "50f92c45-a630-455b-aec3-788680ec7410"
       },
       "code": {
        "font-family": "Anonymous Pro"
       },
       "h1": {
        "color": "c5cc3653-2ee1-402a-aba2-7caae1da4f6c",
        "font-family": "Lato",
        "font-size": 8
       },
       "h2": {
        "color": "c5cc3653-2ee1-402a-aba2-7caae1da4f6c",
        "font-family": "Lato",
        "font-size": 6
       },
       "h3": {
        "color": "50f92c45-a630-455b-aec3-788680ec7410",
        "font-family": "Lato",
        "font-size": 5.5
       },
       "h4": {
        "color": "c5cc3653-2ee1-402a-aba2-7caae1da4f6c",
        "font-family": "Lato",
        "font-size": 5
       },
       "h5": {
        "font-family": "Lato"
       },
       "h6": {
        "font-family": "Lato"
       },
       "h7": {
        "font-family": "Lato"
       },
       "pre": {
        "font-family": "Anonymous Pro",
        "font-size": 4
       }
      },
      "text-base": {
       "font-family": "Merriweather",
       "font-size": 4
      }
     },
     "e31df26d-8294-4e08-bba1-c0f718f6b85b": {
      "backgrounds": {
       "backgroundColor": {
        "background-color": "backgroundColor",
        "id": "backgroundColor"
       }
      },
      "id": "e31df26d-8294-4e08-bba1-c0f718f6b85b",
      "palette": {
       "backgroundColor": {
        "id": "backgroundColor",
        "rgb": [
         34,
         34,
         34
        ]
       },
       "headingColor": {
        "id": "headingColor",
        "rgb": [
         238,
         238,
         238
        ]
       },
       "linkColor": {
        "id": "linkColor",
        "rgb": [
         170,
         34,
         51
        ]
       },
       "mainColor": {
        "id": "mainColor",
        "rgb": [
         238,
         238,
         238
        ]
       }
      },
      "rules": {
       "a": {
        "color": "linkColor"
       },
       "h1": {
        "color": "headingColor",
        "font-family": "Ubuntu",
        "font-size": 7
       },
       "h2": {
        "color": "headingColor",
        "font-family": "Ubuntu",
        "font-size": 5
       },
       "h3": {
        "color": "headingColor",
        "font-family": "Ubuntu",
        "font-size": 3.75
       },
       "h4": {
        "color": "headingColor",
        "font-family": "Ubuntu",
        "font-size": 3
       },
       "h5": {
        "color": "headingColor",
        "font-family": "Ubuntu"
       },
       "h6": {
        "color": "headingColor",
        "font-family": "Ubuntu"
       },
       "h7": {
        "color": "headingColor",
        "font-family": "Ubuntu"
       },
       "li": {
        "color": "mainColor",
        "font-family": "Ubuntu",
        "font-size": 5
       },
       "p": {
        "color": "mainColor",
        "font-family": "Ubuntu",
        "font-size": 5
       }
      },
      "text-base": {
       "color": "mainColor",
       "font-family": "Ubuntu",
       "font-size": 5
      }
     }
    }
   }
  }
 },
 "nbformat": 4,
 "nbformat_minor": 0
}
